{
 "cells": [
  {
   "cell_type": "markdown",
   "metadata": {
    "id": "PdcpqA1Dxt9e"
   },
   "source": [
    "# Deep Learning Course Project - Gesture Recognition\n",
    "## Problem Statement\n",
    "Imagine you are working as a data scientist at a home electronics company which manufactures state of the art smart televisions. You want to develop a cool feature in the smart-TV that can recognise five different gestures performed by the user which will help users control the TV without using a remote.\n",
    "\n",
    "The gestures are continuously monitored by the webcam mounted on the TV. Each gesture corresponds to a specific command:"
   ]
  },
  {
   "cell_type": "markdown",
   "metadata": {
    "id": "n3AI6WXWx0fs"
   },
   "source": [
    "Each video is a sequence of 30 frames (or images).\n",
    "\n",
    "##Objectives:\n",
    "\n",
    "1. Generator: The generator should be able to take a batch of videos as input without any error. Steps like cropping, resizing and normalization should be performed successfully.\n",
    "\n",
    "2. Model: Develop a model that is able to train without any errors which will be judged on the total number of parameters (as the inference(prediction) time should be less) and the accuracy achieved. As suggested by Snehansu, start training on a small amount of data and then proceed further.\n",
    "\n",
    "3. Write up: This should contain the detailed procedure followed in choosing the final model. The write up should start with the reason for choosing the base model, then highlight the reasons and metrics taken into consideration to modify and experiment to arrive at the final model."
   ]
  },
  {
   "cell_type": "code",
   "execution_count": 3,
   "metadata": {
    "execution": {
     "iopub.execute_input": "2022-12-17T07:01:37.943781Z",
     "iopub.status.busy": "2022-12-17T07:01:37.943309Z",
     "iopub.status.idle": "2022-12-17T07:01:38.197322Z",
     "shell.execute_reply": "2022-12-17T07:01:38.196138Z",
     "shell.execute_reply.started": "2022-12-17T07:01:37.943739Z"
    },
    "id": "hKpI8i3x6N48"
   },
   "outputs": [],
   "source": [
    "#Importing libraries required for the case study and to plot charts\n",
    "import numpy as np\n",
    "import pandas as pd\n",
    "import matplotlib.pyplot as plt\n",
    "import seaborn as sns\n",
    "\n",
    "#Importing Regular Expressions for String manipulation\n",
    "import re"
   ]
  },
  {
   "cell_type": "code",
   "execution_count": 4,
   "metadata": {
    "execution": {
     "iopub.execute_input": "2022-12-17T07:01:38.200094Z",
     "iopub.status.busy": "2022-12-17T07:01:38.199424Z",
     "iopub.status.idle": "2022-12-17T07:01:38.206562Z",
     "shell.execute_reply": "2022-12-17T07:01:38.205125Z",
     "shell.execute_reply.started": "2022-12-17T07:01:38.200043Z"
    },
    "id": "6NhrwksiyUad"
   },
   "outputs": [],
   "source": [
    "np.random.seed(30)\n",
    "import random as rn\n",
    "rn.seed(30)\n",
    "from keras import backend as K\n",
    "import tensorflow as tf\n",
    "tf.random.set_seed(30)\n",
    "#tf.random.set_seed"
   ]
  },
  {
   "cell_type": "code",
   "execution_count": 5,
   "metadata": {
    "execution": {
     "iopub.execute_input": "2022-12-17T07:01:38.372166Z",
     "iopub.status.busy": "2022-12-17T07:01:38.369483Z",
     "iopub.status.idle": "2022-12-17T07:01:38.380914Z",
     "shell.execute_reply": "2022-12-17T07:01:38.379771Z",
     "shell.execute_reply.started": "2022-12-17T07:01:38.372123Z"
    },
    "id": "Rvz3MLp9yX1k"
   },
   "outputs": [],
   "source": [
    "import cv2\n",
    "import matplotlib.pyplot as plt\n",
    "%matplotlib inline"
   ]
  },
  {
   "cell_type": "code",
   "execution_count": 6,
   "metadata": {
    "execution": {
     "iopub.execute_input": "2022-12-17T07:01:38.581182Z",
     "iopub.status.busy": "2022-12-17T07:01:38.580693Z",
     "iopub.status.idle": "2022-12-17T07:01:38.588097Z",
     "shell.execute_reply": "2022-12-17T07:01:38.587026Z",
     "shell.execute_reply.started": "2022-12-17T07:01:38.581139Z"
    },
    "id": "dYMZpA_hvk7l"
   },
   "outputs": [
    {
     "ename": "ModuleNotFoundError",
     "evalue": "No module named 'imageio'",
     "output_type": "error",
     "traceback": [
      "\u001b[0;31m---------------------------------------------------------------------------\u001b[0m",
      "\u001b[0;31mModuleNotFoundError\u001b[0m                       Traceback (most recent call last)",
      "Cell \u001b[0;32mIn[6], line 5\u001b[0m\n\u001b[1;32m      3\u001b[0m \u001b[38;5;28;01mimport\u001b[39;00m \u001b[38;5;21;01mnumpy\u001b[39;00m \u001b[38;5;28;01mas\u001b[39;00m \u001b[38;5;21;01mnp\u001b[39;00m\n\u001b[1;32m      4\u001b[0m \u001b[38;5;28;01mimport\u001b[39;00m \u001b[38;5;21;01mos\u001b[39;00m\n\u001b[0;32m----> 5\u001b[0m \u001b[38;5;28;01mfrom\u001b[39;00m \u001b[38;5;21;01mimageio\u001b[39;00m \u001b[38;5;28;01mimport\u001b[39;00m imread\n\u001b[1;32m      6\u001b[0m \u001b[38;5;28;01mfrom\u001b[39;00m \u001b[38;5;21;01mtensorflow\u001b[39;00m \u001b[38;5;28;01mimport\u001b[39;00m keras\n\u001b[1;32m      7\u001b[0m \u001b[38;5;28;01mfrom\u001b[39;00m \u001b[38;5;21;01mskimage\u001b[39;00m\u001b[38;5;21;01m.\u001b[39;00m\u001b[38;5;21;01mtransform\u001b[39;00m \u001b[38;5;28;01mimport\u001b[39;00m resize\n",
      "\u001b[0;31mModuleNotFoundError\u001b[0m: No module named 'imageio'"
     ]
    }
   ],
   "source": [
    "# Importing the necessary libraries\n",
    "\n",
    "import numpy as np\n",
    "import os\n",
    "from imageio import imread\n",
    "from tensorflow import keras\n",
    "from skimage.transform import resize\n",
    "import cv2\n",
    "import datetime\n",
    "import os\n",
    "import warnings\n",
    "warnings.filterwarnings(\"ignore\")\n",
    "import abc\n",
    "from sys import getsizeof"
   ]
  },
  {
   "cell_type": "code",
   "execution_count": null,
   "metadata": {
    "execution": {
     "iopub.execute_input": "2022-12-17T07:01:38.784819Z",
     "iopub.status.busy": "2022-12-17T07:01:38.784510Z",
     "iopub.status.idle": "2022-12-17T07:01:38.790904Z",
     "shell.execute_reply": "2022-12-17T07:01:38.789899Z",
     "shell.execute_reply.started": "2022-12-17T07:01:38.784792Z"
    },
    "id": "-v2yoLzMyaAI"
   },
   "outputs": [],
   "source": [
    "# importing some other libraries which will be needed for model building.\n",
    "\n",
    "from keras.models import Sequential, Model\n",
    "from keras.layers import Dense, GRU, Flatten, TimeDistributed, Flatten, BatchNormalization, Activation\n",
    "from keras.layers.convolutional import Conv3D, MaxPooling3D, Conv2D, MaxPooling2D\n",
    "from keras.layers import LSTM\n",
    "from keras.callbacks import ModelCheckpoint, ReduceLROnPlateau, EarlyStopping\n",
    "from keras import optimizers\n",
    "from keras.layers import Dropout"
   ]
  },
  {
   "cell_type": "code",
   "execution_count": null,
   "metadata": {
    "colab": {
     "base_uri": "https://localhost:8080/"
    },
    "execution": {
     "iopub.execute_input": "2022-12-17T07:01:38.977357Z",
     "iopub.status.busy": "2022-12-17T07:01:38.976299Z",
     "iopub.status.idle": "2022-12-17T07:01:38.981685Z",
     "shell.execute_reply": "2022-12-17T07:01:38.980672Z",
     "shell.execute_reply.started": "2022-12-17T07:01:38.977312Z"
    },
    "id": "-WI8aIvQyuyj",
    "outputId": "91600b44-d2bb-4ea2-9e2e-9cf244a6a465"
   },
   "outputs": [],
   "source": [
    "# from google.colab import drive\n",
    "\n",
    "# from google.colab import drive\n",
    "# drive.mount('/content/drive')"
   ]
  },
  {
   "cell_type": "code",
   "execution_count": null,
   "metadata": {
    "execution": {
     "iopub.execute_input": "2022-12-17T07:01:39.362074Z",
     "iopub.status.busy": "2022-12-17T07:01:39.361399Z",
     "iopub.status.idle": "2022-12-17T07:01:39.367071Z",
     "shell.execute_reply": "2022-12-17T07:01:39.365988Z",
     "shell.execute_reply.started": "2022-12-17T07:01:39.362035Z"
    },
    "id": "6Gl7vrq23eQv"
   },
   "outputs": [],
   "source": [
    "project_folder='/kaggle/input/gesture-recognition-dataset'"
   ]
  },
  {
   "cell_type": "code",
   "execution_count": null,
   "metadata": {
    "execution": {
     "iopub.execute_input": "2022-12-17T07:01:40.130945Z",
     "iopub.status.busy": "2022-12-17T07:01:40.130570Z",
     "iopub.status.idle": "2022-12-17T07:01:40.158680Z",
     "shell.execute_reply": "2022-12-17T07:01:40.157769Z",
     "shell.execute_reply.started": "2022-12-17T07:01:40.130912Z"
    },
    "id": "7Z6Il9sd54mv"
   },
   "outputs": [],
   "source": [
    "train_df = pd.read_csv(\"/kaggle/input/gesture-recognition-dataset/train.csv\",dtype=object)"
   ]
  },
  {
   "cell_type": "code",
   "execution_count": null,
   "metadata": {
    "colab": {
     "base_uri": "https://localhost:8080/"
    },
    "execution": {
     "iopub.execute_input": "2022-12-17T07:01:40.898630Z",
     "iopub.status.busy": "2022-12-17T07:01:40.898238Z",
     "iopub.status.idle": "2022-12-17T07:01:40.935516Z",
     "shell.execute_reply": "2022-12-17T07:01:40.934427Z",
     "shell.execute_reply.started": "2022-12-17T07:01:40.898599Z"
    },
    "id": "6Wh1G9LT6TDa",
    "outputId": "46d2ed18-3006-46ff-c95e-010e7fd1fe74"
   },
   "outputs": [],
   "source": [
    "print(train_df.shape)\n",
    "print(train_df.info())"
   ]
  },
  {
   "cell_type": "markdown",
   "metadata": {
    "id": "dmJNtUId3qdI"
   },
   "source": [
    "## Plotting"
   ]
  },
  {
   "cell_type": "code",
   "execution_count": null,
   "metadata": {
    "execution": {
     "iopub.execute_input": "2022-12-17T07:01:45.751751Z",
     "iopub.status.busy": "2022-12-17T07:01:45.751389Z",
     "iopub.status.idle": "2022-12-17T07:01:45.758800Z",
     "shell.execute_reply": "2022-12-17T07:01:45.757444Z",
     "shell.execute_reply.started": "2022-12-17T07:01:45.751718Z"
    },
    "id": "Qj3K0s6x3rwv"
   },
   "outputs": [],
   "source": [
    "# function to plot the training/validation accuracies/losses.\n",
    "\n",
    "def plot(history):\n",
    "    fig, axes = plt.subplots(nrows=1, ncols=2, figsize=(15,4))\n",
    "    axes[0].plot(history.history['loss'])   \n",
    "    axes[0].plot(history.history['val_loss'])\n",
    "    axes[0].legend(['loss','val_loss'])\n",
    "\n",
    "    axes[1].plot(history.history['categorical_accuracy'])   \n",
    "    axes[1].plot(history.history['val_categorical_accuracy'])\n",
    "    axes[1].legend(['categorical_accuracy','val_categorical_accuracy'])"
   ]
  },
  {
   "cell_type": "markdown",
   "metadata": {
    "id": "j3pIO77c4OLD"
   },
   "source": [
    "## Generator\n",
    "This is one of the most important part of the code. The overall structure of the generator has been given. In the generator, you are going to preprocess the images as you have images of 2 different dimensions as well as create a batch of video frames. You have to experiment with img_idx, y,z and normalization such that you get high accuracy."
   ]
  },
  {
   "cell_type": "code",
   "execution_count": null,
   "metadata": {
    "execution": {
     "iopub.execute_input": "2022-12-17T07:01:51.138237Z",
     "iopub.status.busy": "2022-12-17T07:01:51.137812Z",
     "iopub.status.idle": "2022-12-17T07:01:51.170489Z",
     "shell.execute_reply": "2022-12-17T07:01:51.169394Z",
     "shell.execute_reply.started": "2022-12-17T07:01:51.138199Z"
    },
    "id": "cHEZvXv_4Inu"
   },
   "outputs": [],
   "source": [
    "class ModelBuilder(metaclass= abc.ABCMeta):\n",
    "    # initialisng the path where project data resides\n",
    "    def initialize_path(self,project_folder):\n",
    "        self.train_doc = np.random.permutation(open(project_folder + '/' + 'train.csv').readlines())\n",
    "        self.val_doc = np.random.permutation(open(project_folder + '/' + 'val.csv').readlines())\n",
    "        self.train_path = project_folder + '/' + 'train'\n",
    "        self.val_path =  project_folder + '/' + 'val'\n",
    "        self.num_train_sequences = len(self.train_doc)\n",
    "        self.num_val_sequences = len(self.val_doc)\n",
    "    # initialising the image properties    \n",
    "    def initialize_image_properties(self,image_height=100,image_width=100):\n",
    "        self.image_height=image_height\n",
    "        self.image_width=image_width\n",
    "        self.channels=3\n",
    "        self.num_classes=5\n",
    "        self.total_frames=30\n",
    "    # initialising the batch size, frames to sample and the no. of epochs\n",
    "    def initialize_hyperparams(self,frames_to_sample=30,batch_size=20,num_epochs=20):\n",
    "        self.frames_to_sample=frames_to_sample\n",
    "        self.batch_size=batch_size\n",
    "        self.num_epochs=num_epochs\n",
    "        \n",
    "    # MOST IMPORTANT PART HERE - The generator function        \n",
    "    def generator(self,source_path, folder_list, augment=False):\n",
    "        img_idx = np.round(np.linspace(0,self.total_frames-1,self.frames_to_sample)).astype(int)\n",
    "        batch_size=self.batch_size\n",
    "        while True:\n",
    "            t = np.random.permutation(folder_list)\n",
    "            num_batches = len(t)//batch_size\n",
    "        \n",
    "            for batch in range(num_batches): \n",
    "                batch_data, batch_labels= self.one_batch_data(source_path,t,batch,batch_size,img_idx,augment)\n",
    "                yield batch_data, batch_labels \n",
    "\n",
    "            remaining_seq=len(t)%batch_size\n",
    "        \n",
    "            if (remaining_seq != 0):\n",
    "                batch_data, batch_labels= self.one_batch_data(source_path,t,num_batches,batch_size,img_idx,augment,remaining_seq)\n",
    "                yield batch_data, batch_labels \n",
    "    \n",
    "    \n",
    "    def one_batch_data(self,source_path,t,batch,batch_size,img_idx,augment,remaining_seq=0):\n",
    "    \n",
    "        seq_len = remaining_seq if remaining_seq else batch_size\n",
    "    \n",
    "        batch_data = np.zeros((seq_len,len(img_idx),self.image_height,self.image_width,self.channels)) \n",
    "        batch_labels = np.zeros((seq_len,self.num_classes)) \n",
    "    \n",
    "        if (augment): batch_data_aug = np.zeros((seq_len,len(img_idx),self.image_height,self.image_width,self.channels))\n",
    "\n",
    "        \n",
    "        for folder in range(seq_len): \n",
    "            imgs = os.listdir(source_path+'/'+ t[folder + (batch*batch_size)].split(';')[0]) \n",
    "            for idx,item in enumerate(img_idx):\n",
    "                #performing image reading and resizing\n",
    "                image = imread(source_path+'/'+ t[folder + (batch*batch_size)].strip().split(';')[0]+'/'+imgs[item]).astype(np.float32)\n",
    "                image_resized=resize(image,(self.image_height,self.image_width,3))\n",
    "            \n",
    "                #normalizing the images\n",
    "                batch_data[folder,idx,:,:,0] = (image_resized[:,:,0])/255\n",
    "                batch_data[folder,idx,:,:,1] = (image_resized[:,:,1])/255\n",
    "                batch_data[folder,idx,:,:,2] = (image_resized[:,:,2])/255\n",
    "            \n",
    "                if (augment):\n",
    "                    shifted = cv2.warpAffine(image, \n",
    "                                             np.float32([[1, 0, np.random.randint(-30,30)],[0, 1, np.random.randint(-30,30)]]), \n",
    "                                            (image.shape[1], image.shape[0]))\n",
    "                    \n",
    "                    gray = cv2.cvtColor(shifted,cv2.COLOR_BGR2GRAY)\n",
    "\n",
    "                    x0, y0 = np.argwhere(gray > 0).min(axis=0)\n",
    "                    x1, y1 = np.argwhere(gray > 0).max(axis=0) \n",
    "                    # cropping the images to have the targeted gestures and remove the noise from the images.\n",
    "                    cropped=shifted[x0:x1,y0:y1,:]\n",
    "                    \n",
    "                    image_resized=resize(cropped,(self.image_height,self.image_width,3))\n",
    "                    \n",
    "                    #shifted = cv2.warpAffine(image_resized, \n",
    "                    #                        np.float32([[1, 0, np.random.randint(-3,3)],[0, 1, np.random.randint(-3,3)]]), \n",
    "                    #                        (image_resized.shape[1], image_resized.shape[0]))\n",
    "            \n",
    "                    batch_data_aug[folder,idx,:,:,0] = (image_resized[:,:,0])/255\n",
    "                    batch_data_aug[folder,idx,:,:,1] = (image_resized[:,:,1])/255\n",
    "                    batch_data_aug[folder,idx,:,:,2] = (image_resized[:,:,2])/255\n",
    "                \n",
    "            \n",
    "            batch_labels[folder, int(t[folder + (batch*batch_size)].strip().split(';')[2])] = 1\n",
    "            \n",
    "    \n",
    "        if (augment):\n",
    "            batch_data=np.concatenate([batch_data,batch_data_aug])\n",
    "            batch_labels=np.concatenate([batch_labels,batch_labels])\n",
    "\n",
    "        \n",
    "        return(batch_data,batch_labels)\n",
    "    \n",
    "    \n",
    "    def train_model(self, model, augment_data=False):\n",
    "        train_generator = self.generator(self.train_path, self.train_doc,augment=augment_data)\n",
    "        val_generator = self.generator(self.val_path, self.val_doc)\n",
    "\n",
    "        model_name = 'model_init' + '_' + str(datetime.datetime.now()).replace(' ','').replace(':','_') + '/'\n",
    "    \n",
    "        if not os.path.exists(model_name):\n",
    "            os.mkdir(model_name)\n",
    "        \n",
    "        filepath = model_name + 'model-{epoch:05d}-{loss:.5f}-{categorical_accuracy:.5f}-{val_loss:.5f}-{val_categorical_accuracy:.5f}.h5'\n",
    "\n",
    "        checkpoint = ModelCheckpoint(filepath, monitor='val_loss', verbose=1, save_best_only=True, save_weights_only=False, mode='auto', period=1)\n",
    "        LR = ReduceLROnPlateau(monitor='val_loss', factor=0.2, verbose=1, patience=4)\n",
    "        \n",
    "        earlystop = EarlyStopping( monitor=\"val_loss\", min_delta=0,patience=10,verbose=1)\n",
    "        callbacks_list = [checkpoint, LR, earlystop]\n",
    "\n",
    "        if (self.num_train_sequences%self.batch_size) == 0:\n",
    "            steps_per_epoch = int(self.num_train_sequences/self.batch_size)\n",
    "        else:\n",
    "            steps_per_epoch = (self.num_train_sequences//self.batch_size) + 1\n",
    "\n",
    "        if (self.num_val_sequences%self.batch_size) == 0:\n",
    "            validation_steps = int(self.num_val_sequences/self.batch_size)\n",
    "        else:\n",
    "            validation_steps = (self.num_val_sequences//self.batch_size) + 1\n",
    "    \n",
    "        history=model.fit_generator(train_generator, steps_per_epoch=steps_per_epoch, epochs=self.num_epochs, verbose=1, \n",
    "                            callbacks=callbacks_list, validation_data=val_generator, \n",
    "                            validation_steps=validation_steps, class_weight=None, workers=1, initial_epoch=0)\n",
    "        return history\n",
    "\n",
    "        \n",
    "    @abc.abstractmethod\n",
    "    def define_model(self):\n",
    "        pass"
   ]
  },
  {
   "cell_type": "markdown",
   "metadata": {
    "id": "NcU1STey4aCN"
   },
   "source": [
    "## Model\n",
    "Here you make the model using different functionalities that Keras provides. Remember to use Conv3D and MaxPooling3D and not Conv2D and Maxpooling2D for a 3D convolution model. You would want to use TimeDistributed while building a Conv2D + RNN model. Also remember that the last layer is the softmax. Design the network in such a way that the model is able to give good accuracy on the least number of parameters so that it can fit in the memory of the webcam.\n",
    "\n",
    "## Sample Model"
   ]
  },
  {
   "cell_type": "code",
   "execution_count": null,
   "metadata": {
    "execution": {
     "iopub.execute_input": "2022-12-17T07:01:54.147417Z",
     "iopub.status.busy": "2022-12-17T07:01:54.147050Z",
     "iopub.status.idle": "2022-12-17T07:01:54.159041Z",
     "shell.execute_reply": "2022-12-17T07:01:54.157854Z",
     "shell.execute_reply.started": "2022-12-17T07:01:54.147384Z"
    },
    "id": "XhOpN1EW4ctq"
   },
   "outputs": [],
   "source": [
    "class ModelConv3D1(ModelBuilder):\n",
    "    \n",
    "    def define_model(self):\n",
    "\n",
    "        model = Sequential()\n",
    "        model.add(Conv3D(16, (3, 3, 3), padding='same',\n",
    "                 input_shape=(self.frames_to_sample,self.image_height,self.image_width,self.channels)))\n",
    "        model.add(Activation('relu'))\n",
    "        model.add(BatchNormalization())\n",
    "        model.add(MaxPooling3D(pool_size=(2, 2, 2)))\n",
    "\n",
    "        model.add(Conv3D(32, (2, 2, 2), padding='same'))\n",
    "        model.add(Activation('relu'))\n",
    "        model.add(BatchNormalization())\n",
    "        model.add(MaxPooling3D(pool_size=(2, 2, 2)))\n",
    "\n",
    "        model.add(Conv3D(64, (2, 2, 2), padding='same'))\n",
    "        model.add(Activation('relu'))\n",
    "        model.add(BatchNormalization())\n",
    "        model.add(MaxPooling3D(pool_size=(2, 2, 2)))\n",
    "\n",
    "        model.add(Conv3D(128, (2, 2, 2), padding='same'))\n",
    "        model.add(Activation('relu'))\n",
    "        model.add(BatchNormalization())\n",
    "        model.add(MaxPooling3D(pool_size=(2, 2, 2)))\n",
    "\n",
    "        model.add(Flatten())\n",
    "        model.add(Dense(128,activation='relu'))\n",
    "        model.add(BatchNormalization())\n",
    "        model.add(Dropout(0.5))\n",
    "\n",
    "        model.add(Dense(64,activation='relu'))\n",
    "        model.add(BatchNormalization())\n",
    "        model.add(Dropout(0.25))\n",
    "\n",
    "\n",
    "        model.add(Dense(self.num_classes,activation='softmax'))\n",
    "\n",
    "        optimiser = keras.optimizers.Adam()\n",
    "        #optimiser = 'sgd'\n",
    "        model.compile(optimizer=optimiser, loss='categorical_crossentropy', metrics=['categorical_accuracy'])\n",
    "        return model"
   ]
  },
  {
   "cell_type": "code",
   "execution_count": null,
   "metadata": {
    "colab": {
     "base_uri": "https://localhost:8080/"
    },
    "execution": {
     "iopub.execute_input": "2022-12-17T07:01:55.711056Z",
     "iopub.status.busy": "2022-12-17T07:01:55.710585Z",
     "iopub.status.idle": "2022-12-17T07:02:01.686943Z",
     "shell.execute_reply": "2022-12-17T07:02:01.685890Z",
     "shell.execute_reply.started": "2022-12-17T07:01:55.711018Z"
    },
    "id": "8FChx4vu4mqk",
    "outputId": "a58ea935-c623-42f7-b077-a4c2c478c5f2"
   },
   "outputs": [],
   "source": [
    "conv_3d1=ModelConv3D1()\n",
    "conv_3d1.initialize_path(project_folder)\n",
    "conv_3d1.initialize_image_properties(image_height=160,image_width=160)\n",
    "conv_3d1.initialize_hyperparams(frames_to_sample=30,batch_size=10,num_epochs=1)\n",
    "conv_3d1_model=conv_3d1.define_model()\n",
    "conv_3d1_model.summary()"
   ]
  },
  {
   "cell_type": "markdown",
   "metadata": {
    "id": "X432T31l5ZDo"
   },
   "source": [
    "## Sample Cropping"
   ]
  },
  {
   "cell_type": "code",
   "execution_count": null,
   "metadata": {
    "colab": {
     "base_uri": "https://localhost:8080/",
     "height": 222
    },
    "execution": {
     "iopub.execute_input": "2022-12-17T07:02:05.548962Z",
     "iopub.status.busy": "2022-12-17T07:02:05.548530Z",
     "iopub.status.idle": "2022-12-17T07:02:08.158963Z",
     "shell.execute_reply": "2022-12-17T07:02:08.157987Z",
     "shell.execute_reply.started": "2022-12-17T07:02:05.548922Z"
    },
    "id": "oYT9UVvb5bkW",
    "outputId": "81339e4f-354c-4e0c-a150-50083c5c4e18"
   },
   "outputs": [],
   "source": [
    "test_generator=ModelConv3D1()\n",
    "test_generator.initialize_path(project_folder)\n",
    "test_generator.initialize_image_properties(image_height=160,image_width=160)\n",
    "test_generator.initialize_hyperparams(frames_to_sample=30,batch_size=3,num_epochs=1)\n",
    "\n",
    "g=test_generator.generator(test_generator.val_path,test_generator.val_doc,augment=True)\n",
    "batch_data, batch_labels=next(g)\n",
    "fig, axes = plt.subplots(nrows=1, ncols=2)\n",
    "axes[0].imshow(batch_data[0,15,:,:,:])   \n",
    "axes[1].imshow(batch_data[3,15,:,:,:])   "
   ]
  },
  {
   "cell_type": "markdown",
   "metadata": {
    "id": "G3sK9Z-PeWC7"
   },
   "source": [
    "## Experimenting with Image resolution, number of frames to use and batch_size"
   ]
  },
  {
   "cell_type": "markdown",
   "metadata": {
    "id": "TkHjvq3QeZhM"
   },
   "source": [
    "## We had hit the limit on memory resources with image resolution of 160x160 with 30 frames and batch_size of 40...we get the below error\n",
    "ResourceExhaustedError: OOM when allocating tensor with shape[40,16,30,160,160] and type float on /job:localhost/replica:0/task:0/device:GPU:0 by allocator GPU_0_bfc"
   ]
  },
  {
   "cell_type": "code",
   "execution_count": null,
   "metadata": {
    "colab": {
     "base_uri": "https://localhost:8080/"
    },
    "execution": {
     "iopub.execute_input": "2022-12-17T07:02:14.944877Z",
     "iopub.status.busy": "2022-12-17T07:02:14.944473Z",
     "iopub.status.idle": "2022-12-17T07:02:14.951293Z",
     "shell.execute_reply": "2022-12-17T07:02:14.950230Z",
     "shell.execute_reply.started": "2022-12-17T07:02:14.944818Z"
    },
    "id": "jfBjkCQyeXrQ",
    "outputId": "c8e6df27-a407-452d-bbb1-5e2d5c32f3b3"
   },
   "outputs": [],
   "source": [
    "print(\"Memory util is {} Gigs\". format(getsizeof(np.zeros((40,16,30,160,160)))/(1024*1024*1024)))"
   ]
  },
  {
   "cell_type": "markdown",
   "metadata": {
    "id": "MBADFMWtegOD"
   },
   "source": [
    "So lets trade-off between these parameters Below are the experiments to see how training time is affected by image resolution, number of images in sequence and batch size"
   ]
  },
  {
   "cell_type": "code",
   "execution_count": null,
   "metadata": {
    "execution": {
     "iopub.execute_input": "2022-12-17T07:02:17.903353Z",
     "iopub.status.busy": "2022-12-17T07:02:17.902940Z",
     "iopub.status.idle": "2022-12-17T07:02:17.908506Z",
     "shell.execute_reply": "2022-12-17T07:02:17.907347Z",
     "shell.execute_reply.started": "2022-12-17T07:02:17.903301Z"
    },
    "id": "MlwJikS1egzB"
   },
   "outputs": [],
   "source": [
    "#conv_3d1=ModelConv3D1()\n",
    "#conv_3d1.initialize_path(project_folder)\n",
    "#conv_3d1.initialize_image_properties(image_height=100,image_width=100)\n",
    "#conv_3d1.initialize_hyperparams(frames_to_sample=15,batch_size=30,num_epochs=2)\n",
    "#conv_3d1_model=conv_3d1.define_model()\n",
    "#print(\"Total Params:\", conv_3d1_model.count_params())\n",
    "#conv_3d1.train_model(conv_3d1_model)"
   ]
  },
  {
   "cell_type": "code",
   "execution_count": null,
   "metadata": {
    "colab": {
     "base_uri": "https://localhost:8080/"
    },
    "execution": {
     "iopub.execute_input": "2022-12-17T07:02:18.803004Z",
     "iopub.status.busy": "2022-12-17T07:02:18.802621Z",
     "iopub.status.idle": "2022-12-17T07:11:50.009746Z",
     "shell.execute_reply": "2022-12-17T07:11:50.008797Z",
     "shell.execute_reply.started": "2022-12-17T07:02:18.802972Z"
    },
    "id": "O4xppPXvelsZ",
    "outputId": "1aedb46c-6d9b-4d63-8b3d-904221eec306"
   },
   "outputs": [],
   "source": [
    "conv_3d1=ModelConv3D1()\n",
    "conv_3d1.initialize_path(project_folder)\n",
    "conv_3d1.initialize_image_properties(image_height=100,image_width=100)\n",
    "conv_3d1.initialize_hyperparams(frames_to_sample=30,batch_size=20,num_epochs=2)\n",
    "conv_3d1_model=conv_3d1.define_model()\n",
    "print(\"Total Params:\", conv_3d1_model.count_params())\n",
    "conv_3d1.train_model(conv_3d1_model)"
   ]
  },
  {
   "cell_type": "code",
   "execution_count": null,
   "metadata": {
    "colab": {
     "base_uri": "https://localhost:8080/"
    },
    "execution": {
     "iopub.execute_input": "2022-12-17T07:11:50.012529Z",
     "iopub.status.busy": "2022-12-17T07:11:50.012112Z",
     "iopub.status.idle": "2022-12-17T07:22:18.467465Z",
     "shell.execute_reply": "2022-12-17T07:22:18.466273Z",
     "shell.execute_reply.started": "2022-12-17T07:11:50.012490Z"
    },
    "id": "U70tZTxU4344",
    "outputId": "9fa23b58-39d2-456e-dba9-e1707c65200f"
   },
   "outputs": [],
   "source": [
    "conv_3d1=ModelConv3D1()\n",
    "conv_3d1.initialize_path(project_folder)\n",
    "conv_3d1.initialize_image_properties(image_height=160,image_width=160)\n",
    "conv_3d1.initialize_hyperparams(frames_to_sample=30,batch_size=15,num_epochs=2)\n",
    "conv_3d1_model=conv_3d1.define_model()\n",
    "print(\"Total Params:\", conv_3d1_model.count_params())\n",
    "conv_3d1.train_model(conv_3d1_model)"
   ]
  },
  {
   "cell_type": "code",
   "execution_count": null,
   "metadata": {
    "colab": {
     "base_uri": "https://localhost:8080/"
    },
    "execution": {
     "iopub.execute_input": "2022-12-17T07:22:18.469709Z",
     "iopub.status.busy": "2022-12-17T07:22:18.469299Z",
     "iopub.status.idle": "2022-12-17T07:27:47.551188Z",
     "shell.execute_reply": "2022-12-17T07:27:47.549745Z",
     "shell.execute_reply.started": "2022-12-17T07:22:18.469672Z"
    },
    "id": "lgCyGR03F52t",
    "outputId": "3b677b3a-3354-4be5-f162-67517d933e73"
   },
   "outputs": [],
   "source": [
    "conv_3d1=ModelConv3D1()\n",
    "conv_3d1.initialize_path(project_folder)\n",
    "conv_3d1.initialize_image_properties(image_height=160,image_width=160)\n",
    "conv_3d1.initialize_hyperparams(frames_to_sample=16,batch_size=30,num_epochs=2)\n",
    "conv_3d1_model=conv_3d1.define_model()\n",
    "print(\"Total Params:\", conv_3d1_model.count_params())\n",
    "conv_3d1.train_model(conv_3d1_model)"
   ]
  },
  {
   "cell_type": "markdown",
   "metadata": {
    "id": "26w0taeeSVEz"
   },
   "source": [
    "- As we see from the above experiments \"image resolution\" and number of frames in sequence have more impact on training time than batch_size\n",
    "- We can consider the Batch Size around 15-40\n",
    "- We will change the resoulution 160160, 120120 according the model performance\n",
    "## Model 1\n",
    "### Base Model - Batch Size = 40 and No. of Epochs = 15"
   ]
  },
  {
   "cell_type": "code",
   "execution_count": null,
   "metadata": {
    "execution": {
     "iopub.execute_input": "2022-12-17T07:27:47.555115Z",
     "iopub.status.busy": "2022-12-17T07:27:47.554440Z",
     "iopub.status.idle": "2022-12-17T07:27:47.568073Z",
     "shell.execute_reply": "2022-12-17T07:27:47.567134Z",
     "shell.execute_reply.started": "2022-12-17T07:27:47.555085Z"
    },
    "id": "aZfdilN5SeE4"
   },
   "outputs": [],
   "source": [
    "class ModelConv3D1(ModelBuilder):\n",
    "    \n",
    "    def define_model(self,filtersize=(3,3,3),dense_neurons=64,dropout=0.25):\n",
    "\n",
    "        model = Sequential()\n",
    "        model.add(Conv3D(16, filtersize, padding='same',\n",
    "                 input_shape=(self.frames_to_sample,self.image_height,self.image_width,self.channels)))\n",
    "        model.add(Activation('relu'))\n",
    "        model.add(BatchNormalization())\n",
    "        model.add(MaxPooling3D(pool_size=(2, 2, 2)))\n",
    "\n",
    "        model.add(Conv3D(32, filtersize, padding='same'))\n",
    "        model.add(Activation('relu'))\n",
    "        model.add(BatchNormalization())\n",
    "        model.add(MaxPooling3D(pool_size=(2, 2, 2)))\n",
    "\n",
    "        model.add(Conv3D(64, filtersize, padding='same'))\n",
    "        model.add(Activation('relu'))\n",
    "        model.add(BatchNormalization())\n",
    "        model.add(MaxPooling3D(pool_size=(2, 2, 2)))\n",
    "\n",
    "        model.add(Conv3D(128, filtersize, padding='same'))\n",
    "        model.add(Activation('relu'))\n",
    "        model.add(BatchNormalization())\n",
    "        model.add(MaxPooling3D(pool_size=(2, 2, 2)))\n",
    "\n",
    "        model.add(Flatten())\n",
    "        model.add(Dense(dense_neurons,activation='relu'))\n",
    "        model.add(BatchNormalization())\n",
    "        model.add(Dropout(dropout))\n",
    "\n",
    "        model.add(Dense(dense_neurons,activation='relu'))\n",
    "        model.add(BatchNormalization())\n",
    "        model.add(Dropout(dropout))\n",
    "\n",
    "\n",
    "        model.add(Dense(self.num_classes,activation='softmax'))\n",
    "\n",
    "        optimiser = keras.optimizers.Adam()\n",
    "        model.compile(optimizer=optimiser, loss='categorical_crossentropy', metrics=['categorical_accuracy'])\n",
    "        return model"
   ]
  },
  {
   "cell_type": "code",
   "execution_count": null,
   "metadata": {
    "colab": {
     "base_uri": "https://localhost:8080/"
    },
    "execution": {
     "iopub.execute_input": "2022-12-17T07:27:47.570334Z",
     "iopub.status.busy": "2022-12-17T07:27:47.569673Z",
     "iopub.status.idle": "2022-12-17T07:27:47.753582Z",
     "shell.execute_reply": "2022-12-17T07:27:47.752412Z",
     "shell.execute_reply.started": "2022-12-17T07:27:47.570299Z"
    },
    "id": "_Ocy80nVSlC5",
    "outputId": "54a275b5-0b1c-45ea-d4af-4a3ff7eae04a"
   },
   "outputs": [],
   "source": [
    "conv_3d1=ModelConv3D1()\n",
    "conv_3d1.initialize_path(project_folder)\n",
    "conv_3d1.initialize_image_properties(image_height=160,image_width=160)\n",
    "conv_3d1.initialize_hyperparams(frames_to_sample=20,batch_size=40,num_epochs=15)\n",
    "conv_3d1_model=conv_3d1.define_model()\n",
    "conv_3d1_model.summary()"
   ]
  },
  {
   "cell_type": "code",
   "execution_count": null,
   "metadata": {
    "colab": {
     "base_uri": "https://localhost:8080/"
    },
    "execution": {
     "iopub.execute_input": "2022-12-17T07:27:47.756756Z",
     "iopub.status.busy": "2022-12-17T07:27:47.756004Z",
     "iopub.status.idle": "2022-12-17T08:04:45.463803Z",
     "shell.execute_reply": "2022-12-17T08:04:45.462776Z",
     "shell.execute_reply.started": "2022-12-17T07:27:47.756713Z"
    },
    "id": "78Sc-2BaTfki",
    "outputId": "9d4c8522-5291-4bb1-df0c-c122c96f9d9c"
   },
   "outputs": [],
   "source": [
    "print(\"Total Params:\", conv_3d1_model.count_params())\n",
    "history_model1 = conv_3d1.train_model(conv_3d1_model)"
   ]
  },
  {
   "cell_type": "code",
   "execution_count": null,
   "metadata": {
    "colab": {
     "base_uri": "https://localhost:8080/",
     "height": 269
    },
    "execution": {
     "iopub.execute_input": "2022-12-17T08:04:45.466364Z",
     "iopub.status.busy": "2022-12-17T08:04:45.465699Z",
     "iopub.status.idle": "2022-12-17T08:05:23.452783Z",
     "shell.execute_reply": "2022-12-17T08:05:23.451815Z",
     "shell.execute_reply.started": "2022-12-17T08:04:45.466325Z"
    },
    "id": "7LZF_QAO8PoQ",
    "outputId": "3e6fa8d5-80bd-4eac-8368-11f0e3e1eab4"
   },
   "outputs": [],
   "source": [
    "plot(history_model1)"
   ]
  },
  {
   "cell_type": "markdown",
   "metadata": {
    "id": "HdRW92Qo8TbO"
   },
   "source": [
    "## Model 2\n",
    "### Adding dropout layers - Batch Size = 20 and No. of Epochs = 25"
   ]
  },
  {
   "cell_type": "code",
   "execution_count": null,
   "metadata": {
    "colab": {
     "base_uri": "https://localhost:8080/"
    },
    "execution": {
     "iopub.execute_input": "2022-12-17T08:05:23.456434Z",
     "iopub.status.busy": "2022-12-17T08:05:23.456137Z",
     "iopub.status.idle": "2022-12-17T08:05:23.618397Z",
     "shell.execute_reply": "2022-12-17T08:05:23.617214Z",
     "shell.execute_reply.started": "2022-12-17T08:05:23.456406Z"
    },
    "id": "TH3VDBJX8X7W",
    "outputId": "d7fa67a7-3d7d-40ce-bf50-e0f3fdabc0ed"
   },
   "outputs": [],
   "source": [
    "conv_3d2=ModelConv3D1()\n",
    "conv_3d2.initialize_path(project_folder)\n",
    "conv_3d2.initialize_image_properties(image_height=160,image_width=160)\n",
    "conv_3d2.initialize_hyperparams(frames_to_sample=20,batch_size=20,num_epochs=25)\n",
    "conv_3d2_model=conv_3d2.define_model(dense_neurons=256,dropout=0.5)\n",
    "conv_3d2_model.summary()"
   ]
  },
  {
   "cell_type": "code",
   "execution_count": null,
   "metadata": {
    "colab": {
     "base_uri": "https://localhost:8080/"
    },
    "execution": {
     "iopub.execute_input": "2022-12-17T08:05:23.620754Z",
     "iopub.status.busy": "2022-12-17T08:05:23.620361Z",
     "iopub.status.idle": "2022-12-17T09:06:01.144977Z",
     "shell.execute_reply": "2022-12-17T09:06:01.143791Z",
     "shell.execute_reply.started": "2022-12-17T08:05:23.620716Z"
    },
    "id": "nEulfFRw9PZ_",
    "outputId": "321fdd0f-d8df-43f1-d923-f35f38e2079b"
   },
   "outputs": [],
   "source": [
    "print(\"Total Params:\", conv_3d2_model.count_params())\n",
    "history_model2=conv_3d2.train_model(conv_3d2_model,augment_data=True)"
   ]
  },
  {
   "cell_type": "code",
   "execution_count": null,
   "metadata": {
    "colab": {
     "base_uri": "https://localhost:8080/",
     "height": 268
    },
    "execution": {
     "iopub.execute_input": "2022-12-17T09:06:01.148123Z",
     "iopub.status.busy": "2022-12-17T09:06:01.146644Z",
     "iopub.status.idle": "2022-12-17T09:06:01.538465Z",
     "shell.execute_reply": "2022-12-17T09:06:01.537554Z",
     "shell.execute_reply.started": "2022-12-17T09:06:01.148073Z"
    },
    "id": "dgNz4_DHyonM",
    "outputId": "82b02c2b-6ece-4521-da13-6947411398b2"
   },
   "outputs": [],
   "source": [
    "plot(history_model2)"
   ]
  },
  {
   "cell_type": "markdown",
   "metadata": {
    "id": "41lRd0KeyzqQ"
   },
   "source": [
    "- We can see val_loss did not improve from 1.80202 so earlystopping stops the epoch automatically!!\n",
    "- Last Epoch stop on 11/25!! good job earlystopping ;)\n",
    "- Best weights save automatically. The validation accuracy of 25% and training accuracy of 75%. Next we will try to reduce the filter size and image resolution and see if get better results. Moreover since we see minor oscillations in loss, let's try lowering the learning rate to 0.0002-"
   ]
  },
  {
   "cell_type": "markdown",
   "metadata": {
    "id": "A5-_FrK8zQXU"
   },
   "source": [
    "## Model 3\n",
    "### Reduce filter size to (2,2,2) and image res to 120 x 120, - Batch Size = 30 and No. of Epochs = 25"
   ]
  },
  {
   "cell_type": "code",
   "execution_count": null,
   "metadata": {
    "execution": {
     "iopub.execute_input": "2022-12-17T09:06:01.540539Z",
     "iopub.status.busy": "2022-12-17T09:06:01.540085Z",
     "iopub.status.idle": "2022-12-17T09:06:01.553390Z",
     "shell.execute_reply": "2022-12-17T09:06:01.552192Z",
     "shell.execute_reply.started": "2022-12-17T09:06:01.540499Z"
    },
    "id": "mZjoTtcJzNpG"
   },
   "outputs": [],
   "source": [
    "class ModelConv3D3(ModelBuilder):\n",
    "    \n",
    "    def define_model(self,filtersize=(3,3,3),dense_neurons=64,dropout=0.25):\n",
    "\n",
    "        model = Sequential()\n",
    "        model.add(Conv3D(16, filtersize, padding='same',\n",
    "                 input_shape=(self.frames_to_sample,self.image_height,self.image_width,self.channels)))\n",
    "        model.add(Activation('relu'))\n",
    "        model.add(BatchNormalization())\n",
    "        model.add(MaxPooling3D(pool_size=(2, 2, 2)))\n",
    "\n",
    "        model.add(Conv3D(32, filtersize, padding='same'))\n",
    "        model.add(Activation('relu'))\n",
    "        model.add(BatchNormalization())\n",
    "        model.add(MaxPooling3D(pool_size=(2, 2, 2)))\n",
    "\n",
    "        model.add(Conv3D(64, filtersize, padding='same'))\n",
    "        model.add(Activation('relu'))\n",
    "        model.add(BatchNormalization())\n",
    "        model.add(MaxPooling3D(pool_size=(2, 2, 2)))\n",
    "\n",
    "        model.add(Conv3D(128, filtersize, padding='same'))\n",
    "        model.add(Activation('relu'))\n",
    "        model.add(BatchNormalization())\n",
    "        model.add(MaxPooling3D(pool_size=(2, 2, 2)))\n",
    "\n",
    "        model.add(Flatten())\n",
    "        model.add(Dense(dense_neurons,activation='relu'))\n",
    "        model.add(BatchNormalization())\n",
    "        model.add(Dropout(dropout))\n",
    "\n",
    "        model.add(Dense(dense_neurons,activation='relu'))\n",
    "        model.add(BatchNormalization())\n",
    "        model.add(Dropout(dropout))\n",
    "\n",
    "\n",
    "        model.add(Dense(self.num_classes,activation='softmax'))\n",
    "        \n",
    "        optimiser = keras.optimizers.Adam(lr=0.0002)\n",
    "        model.compile(optimizer=optimiser, loss='categorical_crossentropy', metrics=['categorical_accuracy'])\n",
    "        return model\n"
   ]
  },
  {
   "cell_type": "code",
   "execution_count": null,
   "metadata": {
    "colab": {
     "base_uri": "https://localhost:8080/"
    },
    "execution": {
     "iopub.execute_input": "2022-12-17T09:06:01.555720Z",
     "iopub.status.busy": "2022-12-17T09:06:01.555150Z",
     "iopub.status.idle": "2022-12-17T09:06:01.719562Z",
     "shell.execute_reply": "2022-12-17T09:06:01.718524Z",
     "shell.execute_reply.started": "2022-12-17T09:06:01.555681Z"
    },
    "id": "XkCQsRYNzbd9",
    "outputId": "e8aec687-a030-4fd4-a041-6e15b8960766"
   },
   "outputs": [],
   "source": [
    "conv_3d3=ModelConv3D3()\n",
    "conv_3d3.initialize_path(project_folder)\n",
    "conv_3d3.initialize_image_properties(image_height=120,image_width=120)\n",
    "conv_3d3.initialize_hyperparams(frames_to_sample=16,batch_size=30,num_epochs=25)\n",
    "conv_3d3_model=conv_3d3.define_model(filtersize=(2,2,2),dense_neurons=256,dropout=0.5)\n",
    "conv_3d3_model.summary()"
   ]
  },
  {
   "cell_type": "code",
   "execution_count": null,
   "metadata": {
    "colab": {
     "base_uri": "https://localhost:8080/"
    },
    "execution": {
     "iopub.execute_input": "2022-12-17T09:06:01.721537Z",
     "iopub.status.busy": "2022-12-17T09:06:01.720920Z",
     "iopub.status.idle": "2022-12-17T09:43:53.760605Z",
     "shell.execute_reply": "2022-12-17T09:43:53.759646Z",
     "shell.execute_reply.started": "2022-12-17T09:06:01.721499Z"
    },
    "id": "Shw9gmwlzmi_",
    "outputId": "cbec556a-096a-4eb7-ea7e-e5a3583b0eae"
   },
   "outputs": [],
   "source": [
    "print(\"Total Params:\", conv_3d3_model.count_params())\n",
    "history_model3=conv_3d3.train_model(conv_3d3_model,augment_data=True)"
   ]
  },
  {
   "cell_type": "markdown",
   "metadata": {
    "id": "p0rjUnaDSRbg"
   },
   "source": [
    "Model has a best validation accuracy of 19% and training accuracy of 70% . Also we were able to reduce the parameter size by half the earlier model. Let's trying adding more layers\n",
    "## Model 4 -\n",
    "### Adding more layers - Batch Size = 20 and No. of Epochs = 25"
   ]
  },
  {
   "cell_type": "code",
   "execution_count": null,
   "metadata": {
    "execution": {
     "iopub.execute_input": "2022-12-17T09:43:53.764013Z",
     "iopub.status.busy": "2022-12-17T09:43:53.763684Z",
     "iopub.status.idle": "2022-12-17T09:44:33.504359Z",
     "shell.execute_reply": "2022-12-17T09:44:33.503194Z",
     "shell.execute_reply.started": "2022-12-17T09:43:53.763983Z"
    },
    "id": "eOAlcvZdSYba"
   },
   "outputs": [],
   "source": [
    "class ModelConv3D4(ModelBuilder):\n",
    "    \n",
    "    def define_model(self,filtersize=(3,3,3),dense_neurons=64,dropout=0.25):\n",
    "\n",
    "        model = Sequential()\n",
    "        model.add(Conv3D(16, filtersize, padding='same',\n",
    "                 input_shape=(self.frames_to_sample,self.image_height,self.image_width,self.channels)))\n",
    "        model.add(Activation('relu'))\n",
    "        model.add(BatchNormalization())\n",
    "        \n",
    "        model.add(Conv3D(16, filtersize, padding='same',\n",
    "                 input_shape=(self.frames_to_sample,self.image_height,self.image_width,self.channels)))\n",
    "        model.add(Activation('relu'))\n",
    "        model.add(BatchNormalization())\n",
    "        \n",
    "        model.add(MaxPooling3D(pool_size=(2, 2, 2)))\n",
    "\n",
    "        model.add(Conv3D(32, filtersize, padding='same'))\n",
    "        model.add(Activation('relu'))\n",
    "        model.add(BatchNormalization())\n",
    "        \n",
    "        model.add(Conv3D(32, filtersize, padding='same'))\n",
    "        model.add(Activation('relu'))\n",
    "        model.add(BatchNormalization())\n",
    "        \n",
    "        model.add(MaxPooling3D(pool_size=(2, 2, 2)))\n",
    "\n",
    "        model.add(Conv3D(64, filtersize, padding='same'))\n",
    "        model.add(Activation('relu'))\n",
    "        model.add(BatchNormalization())\n",
    "        \n",
    "        model.add(Conv3D(64, filtersize, padding='same'))\n",
    "        model.add(Activation('relu'))\n",
    "        model.add(BatchNormalization())\n",
    "        \n",
    "        model.add(MaxPooling3D(pool_size=(2, 2, 2)))\n",
    "\n",
    "        model.add(Conv3D(128, filtersize, padding='same'))\n",
    "        model.add(Activation('relu'))\n",
    "        model.add(BatchNormalization())\n",
    "        \n",
    "        model.add(Conv3D(128, filtersize, padding='same'))\n",
    "        model.add(Activation('relu'))\n",
    "        model.add(BatchNormalization())\n",
    "        \n",
    "        model.add(MaxPooling3D(pool_size=(2, 2, 2)))\n",
    "        \n",
    "\n",
    "        model.add(Flatten())\n",
    "        model.add(Dense(dense_neurons,activation='relu'))\n",
    "        model.add(BatchNormalization())\n",
    "        model.add(Dropout(dropout))\n",
    "\n",
    "        model.add(Dense(dense_neurons,activation='relu'))\n",
    "        model.add(BatchNormalization())\n",
    "        model.add(Dropout(dropout))\n",
    "\n",
    "\n",
    "        model.add(Dense(self.num_classes,activation='softmax'))\n",
    "\n",
    "        optimiser = keras.optimizers.Adam()\n",
    "        model.compile(optimizer=optimiser, loss='categorical_crossentropy', metrics=['categorical_accuracy'])\n",
    "        return model"
   ]
  },
  {
   "cell_type": "code",
   "execution_count": null,
   "metadata": {
    "colab": {
     "base_uri": "https://localhost:8080/"
    },
    "execution": {
     "iopub.execute_input": "2022-12-17T09:44:33.506382Z",
     "iopub.status.busy": "2022-12-17T09:44:33.505979Z",
     "iopub.status.idle": "2022-12-17T09:44:33.778212Z",
     "shell.execute_reply": "2022-12-17T09:44:33.777115Z",
     "shell.execute_reply.started": "2022-12-17T09:44:33.506343Z"
    },
    "id": "s-0Q__dMSiXJ",
    "outputId": "71cfb805-b7c9-4b6a-ca85-bd85c9a4f3a1"
   },
   "outputs": [],
   "source": [
    "conv_3d4=ModelConv3D4()\n",
    "conv_3d4.initialize_path(project_folder)\n",
    "conv_3d4.initialize_image_properties(image_height=120,image_width=120)\n",
    "conv_3d4.initialize_hyperparams(frames_to_sample=16,batch_size=20,num_epochs=25)\n",
    "conv_3d4_model=conv_3d4.define_model(filtersize=(3,3,3),dense_neurons=256,dropout=0.5)\n",
    "conv_3d4_model.summary()"
   ]
  },
  {
   "cell_type": "code",
   "execution_count": null,
   "metadata": {
    "colab": {
     "base_uri": "https://localhost:8080/"
    },
    "execution": {
     "iopub.execute_input": "2022-12-17T09:44:33.780490Z",
     "iopub.status.busy": "2022-12-17T09:44:33.779552Z",
     "iopub.status.idle": "2022-12-17T10:23:56.964926Z",
     "shell.execute_reply": "2022-12-17T10:23:56.963841Z",
     "shell.execute_reply.started": "2022-12-17T09:44:33.780451Z"
    },
    "id": "J8IIfxWcSmEe",
    "outputId": "8bf3dbbd-5298-441e-879a-1cab4690b47e"
   },
   "outputs": [],
   "source": [
    "print(\"Total Params:\", conv_3d4_model.count_params())\n",
    "history_model4=conv_3d4.train_model(conv_3d4_model,augment_data=True)"
   ]
  },
  {
   "cell_type": "code",
   "execution_count": null,
   "metadata": {
    "colab": {
     "base_uri": "https://localhost:8080/",
     "height": 265
    },
    "execution": {
     "iopub.execute_input": "2022-12-17T10:23:56.977028Z",
     "iopub.status.busy": "2022-12-17T10:23:56.976720Z",
     "iopub.status.idle": "2022-12-17T10:23:57.798871Z",
     "shell.execute_reply": "2022-12-17T10:23:57.797774Z",
     "shell.execute_reply.started": "2022-12-17T10:23:56.977001Z"
    },
    "id": "BaK4GKnMkbLe",
    "outputId": "f2fe042e-0ce1-4c9e-c405-f58b19d4352d"
   },
   "outputs": [],
   "source": [
    "plot(history_model4)"
   ]
  },
  {
   "cell_type": "markdown",
   "metadata": {
    "id": "We7aNfABkfEf"
   },
   "source": [
    "With more layers we dont see much performance improvement. We get a best validation accuracy of 75% . Let's try adding dropouts at the convolution layers\n",
    "## Model 5\n",
    "### Adding dropout at convolution layers"
   ]
  },
  {
   "cell_type": "code",
   "execution_count": null,
   "metadata": {
    "execution": {
     "iopub.execute_input": "2022-12-17T10:23:57.800873Z",
     "iopub.status.busy": "2022-12-17T10:23:57.800466Z",
     "iopub.status.idle": "2022-12-17T10:23:57.816607Z",
     "shell.execute_reply": "2022-12-17T10:23:57.815407Z",
     "shell.execute_reply.started": "2022-12-17T10:23:57.800820Z"
    },
    "id": "-073IdcNknnI"
   },
   "outputs": [],
   "source": [
    "class ModelConv3D5(ModelBuilder):\n",
    "    \n",
    "    def define_model(self,filtersize=(3,3,3),dense_neurons=64,dropout=0.25):\n",
    "\n",
    "        model = Sequential()\n",
    "        model.add(Conv3D(16, filtersize, padding='same',\n",
    "                 input_shape=(self.frames_to_sample,self.image_height,self.image_width,self.channels)))\n",
    "        model.add(Activation('relu'))\n",
    "        model.add(BatchNormalization())\n",
    "        \n",
    "        model.add(Conv3D(16, filtersize, padding='same',\n",
    "                 input_shape=(self.frames_to_sample,self.image_height,self.image_width,self.channels)))\n",
    "        model.add(Activation('relu'))\n",
    "        model.add(BatchNormalization())\n",
    "        \n",
    "        model.add(MaxPooling3D(pool_size=(2, 2, 2)))\n",
    "        model.add(Dropout(dropout))\n",
    "\n",
    "        model.add(Conv3D(32, filtersize, padding='same'))\n",
    "        model.add(Activation('relu'))\n",
    "        model.add(BatchNormalization())\n",
    "        \n",
    "        model.add(Conv3D(32, filtersize, padding='same'))\n",
    "        model.add(Activation('relu'))\n",
    "        model.add(BatchNormalization())\n",
    "        \n",
    "        model.add(MaxPooling3D(pool_size=(2, 2, 2)))\n",
    "        model.add(Dropout(dropout))\n",
    "\n",
    "        model.add(Conv3D(64, filtersize, padding='same'))\n",
    "        model.add(Activation('relu'))\n",
    "        model.add(BatchNormalization())\n",
    "        \n",
    "        model.add(Conv3D(64, filtersize, padding='same'))\n",
    "        model.add(Activation('relu'))\n",
    "        model.add(BatchNormalization())\n",
    "        \n",
    "        model.add(MaxPooling3D(pool_size=(2, 2, 2)))\n",
    "        model.add(Dropout(dropout))\n",
    "\n",
    "        model.add(Conv3D(128, filtersize, padding='same'))\n",
    "        model.add(Activation('relu'))\n",
    "        model.add(BatchNormalization())\n",
    "        \n",
    "        model.add(Conv3D(128, filtersize, padding='same'))\n",
    "        model.add(Activation('relu'))\n",
    "        model.add(BatchNormalization())\n",
    "        \n",
    "        model.add(MaxPooling3D(pool_size=(2, 2, 2)))\n",
    "        model.add(Dropout(dropout))\n",
    "        \n",
    "        model.add(Flatten())\n",
    "        model.add(Dense(dense_neurons,activation='relu'))\n",
    "        model.add(BatchNormalization())\n",
    "        model.add(Dropout(dropout))\n",
    "\n",
    "        model.add(Dense(dense_neurons,activation='relu'))\n",
    "        model.add(BatchNormalization())\n",
    "        model.add(Dropout(dropout))\n",
    "\n",
    "\n",
    "        model.add(Dense(self.num_classes,activation='softmax'))\n",
    "\n",
    "        optimiser = keras.optimizers.Adam()\n",
    "        model.compile(optimizer=optimiser, loss='categorical_crossentropy', metrics=['categorical_accuracy'])\n",
    "        return model"
   ]
  },
  {
   "cell_type": "code",
   "execution_count": null,
   "metadata": {
    "colab": {
     "base_uri": "https://localhost:8080/"
    },
    "execution": {
     "iopub.execute_input": "2022-12-17T10:23:57.818184Z",
     "iopub.status.busy": "2022-12-17T10:23:57.817794Z",
     "iopub.status.idle": "2022-12-17T10:23:58.083949Z",
     "shell.execute_reply": "2022-12-17T10:23:58.082875Z",
     "shell.execute_reply.started": "2022-12-17T10:23:57.818147Z"
    },
    "id": "_tXkHyDqkuTk",
    "outputId": "1457eb32-40a3-4045-ec03-03eeb9a73738"
   },
   "outputs": [],
   "source": [
    "conv_3d5=ModelConv3D5()\n",
    "conv_3d5.initialize_path(project_folder)\n",
    "conv_3d5.initialize_image_properties(image_height=120,image_width=120)\n",
    "conv_3d5.initialize_hyperparams(frames_to_sample=16,batch_size=20,num_epochs=15)\n",
    "conv_3d5_model=conv_3d5.define_model(filtersize=(3,3,3),dense_neurons=256,dropout=0.25)\n",
    "conv_3d5_model.summary()"
   ]
  },
  {
   "cell_type": "code",
   "execution_count": null,
   "metadata": {
    "colab": {
     "base_uri": "https://localhost:8080/"
    },
    "execution": {
     "iopub.execute_input": "2022-12-17T10:23:58.085845Z",
     "iopub.status.busy": "2022-12-17T10:23:58.085462Z",
     "iopub.status.idle": "2022-12-17T11:08:01.418673Z",
     "shell.execute_reply": "2022-12-17T11:08:01.411020Z",
     "shell.execute_reply.started": "2022-12-17T10:23:58.085793Z"
    },
    "id": "0_NwBly8k1Kk",
    "outputId": "835ea7e1-4929-46fb-cfbf-56319af2b738"
   },
   "outputs": [],
   "source": [
    "print(\"Total Params:\", conv_3d5_model.count_params())\n",
    "history_model5=conv_3d5.train_model(conv_3d5_model,augment_data=True)"
   ]
  },
  {
   "cell_type": "code",
   "execution_count": null,
   "metadata": {
    "colab": {
     "base_uri": "https://localhost:8080/",
     "height": 265
    },
    "execution": {
     "iopub.execute_input": "2022-12-17T11:08:01.433565Z",
     "iopub.status.busy": "2022-12-17T11:08:01.433251Z",
     "iopub.status.idle": "2022-12-17T11:08:27.912722Z",
     "shell.execute_reply": "2022-12-17T11:08:27.911783Z",
     "shell.execute_reply.started": "2022-12-17T11:08:01.433535Z"
    },
    "id": "fccLjqnBj8S7",
    "outputId": "b8ae16fb-aa19-4c31-b295-4c0798858287"
   },
   "outputs": [],
   "source": [
    "plot(history_model5)"
   ]
  },
  {
   "cell_type": "markdown",
   "metadata": {
    "id": "5WB2-Q-Yj4gr"
   },
   "source": [
    "\n",
    "Overfitting again. Adding dropouts has further reduced validation accuracy as the model doesn't seem to generalise well.\n",
    "\n",
    "All the experimental models above have more than 1 million parameters. Let's try to reduce the model size and see the performance\n",
    "## Model 6\n",
    "### Reducing the number of parameters"
   ]
  },
  {
   "cell_type": "code",
   "execution_count": null,
   "metadata": {
    "execution": {
     "iopub.execute_input": "2022-12-17T11:08:27.914873Z",
     "iopub.status.busy": "2022-12-17T11:08:27.914263Z",
     "iopub.status.idle": "2022-12-17T11:08:27.927004Z",
     "shell.execute_reply": "2022-12-17T11:08:27.926170Z",
     "shell.execute_reply.started": "2022-12-17T11:08:27.914821Z"
    },
    "id": "v2M64mQhkJjU"
   },
   "outputs": [],
   "source": [
    "class ModelConv3D6(ModelBuilder):\n",
    "    \n",
    "    def define_model(self,dense_neurons=64,dropout=0.25):\n",
    "\n",
    "        model = Sequential()\n",
    "        model.add(Conv3D(16, (3, 3, 3), padding='same',\n",
    "                 input_shape=(self.frames_to_sample,self.image_height,self.image_width,self.channels)))\n",
    "        model.add(Activation('relu'))\n",
    "        model.add(BatchNormalization())\n",
    "        model.add(MaxPooling3D(pool_size=(2, 2, 2)))\n",
    "\n",
    "        model.add(Conv3D(32, (2, 2, 2), padding='same'))\n",
    "        model.add(Activation('relu'))\n",
    "        model.add(BatchNormalization())\n",
    "        model.add(MaxPooling3D(pool_size=(2, 2, 2)))\n",
    "\n",
    "        model.add(Conv3D(64, (2, 2, 2), padding='same'))\n",
    "        model.add(Activation('relu'))\n",
    "        model.add(BatchNormalization())\n",
    "        model.add(MaxPooling3D(pool_size=(2, 2, 2)))\n",
    "\n",
    "        model.add(Conv3D(128, (2, 2, 2), padding='same'))\n",
    "        model.add(Activation('relu'))\n",
    "        model.add(BatchNormalization())\n",
    "        model.add(MaxPooling3D(pool_size=(2, 2, 2)))\n",
    "        \n",
    "        model.add(Flatten())\n",
    "        model.add(Dense(dense_neurons,activation='relu'))\n",
    "        model.add(BatchNormalization())\n",
    "        model.add(Dropout(dropout))\n",
    "\n",
    "        model.add(Dense(dense_neurons,activation='relu'))\n",
    "        model.add(BatchNormalization())\n",
    "        model.add(Dropout(dropout))\n",
    "\n",
    "        model.add(Dense(self.num_classes,activation='softmax'))\n",
    "\n",
    "        optimiser = keras.optimizers.Adam(lr=0.0002)\n",
    "        model.compile(optimizer=optimiser, loss='categorical_crossentropy', metrics=['categorical_accuracy'])\n",
    "        return model"
   ]
  },
  {
   "cell_type": "code",
   "execution_count": null,
   "metadata": {
    "colab": {
     "base_uri": "https://localhost:8080/"
    },
    "execution": {
     "iopub.execute_input": "2022-12-17T11:08:27.930310Z",
     "iopub.status.busy": "2022-12-17T11:08:27.930032Z",
     "iopub.status.idle": "2022-12-17T11:08:28.315011Z",
     "shell.execute_reply": "2022-12-17T11:08:28.313886Z",
     "shell.execute_reply.started": "2022-12-17T11:08:27.930283Z"
    },
    "id": "e_JBw8EdkRF_",
    "outputId": "e3fed2a0-38ae-4fb3-bb78-1bd59f644eab"
   },
   "outputs": [],
   "source": [
    "conv_3d6=ModelConv3D6()\n",
    "conv_3d6.initialize_path(project_folder)\n",
    "conv_3d6.initialize_image_properties(image_height=100,image_width=100)\n",
    "conv_3d6.initialize_hyperparams(frames_to_sample=16,batch_size=20,num_epochs=20)\n",
    "conv_3d6_model=conv_3d6.define_model(dense_neurons=128,dropout=0.25)\n",
    "conv_3d6_model.summary()"
   ]
  },
  {
   "cell_type": "code",
   "execution_count": null,
   "metadata": {
    "colab": {
     "base_uri": "https://localhost:8080/"
    },
    "execution": {
     "iopub.execute_input": "2022-12-17T11:08:28.317187Z",
     "iopub.status.busy": "2022-12-17T11:08:28.316558Z",
     "iopub.status.idle": "2022-12-17T11:49:32.588616Z",
     "shell.execute_reply": "2022-12-17T11:49:32.579913Z",
     "shell.execute_reply.started": "2022-12-17T11:08:28.317148Z"
    },
    "id": "anmTKTNMkXXj",
    "outputId": "64db9251-efc1-4cf3-a0c1-0769ce10b294"
   },
   "outputs": [],
   "source": [
    "print(\"Total Params:\", conv_3d6_model.count_params())\n",
    "history_model6=conv_3d6.train_model(conv_3d6_model,augment_data=True)"
   ]
  },
  {
   "cell_type": "code",
   "execution_count": null,
   "metadata": {
    "colab": {
     "base_uri": "https://localhost:8080/",
     "height": 265
    },
    "execution": {
     "iopub.execute_input": "2022-12-17T11:49:32.597753Z",
     "iopub.status.busy": "2022-12-17T11:49:32.596987Z",
     "iopub.status.idle": "2022-12-17T11:49:56.977889Z",
     "shell.execute_reply": "2022-12-17T11:49:56.976813Z",
     "shell.execute_reply.started": "2022-12-17T11:49:32.597707Z"
    },
    "id": "TCtKzuC373EA",
    "outputId": "3347df41-45a7-45ac-938d-aaeba3afd37c"
   },
   "outputs": [],
   "source": [
    "plot(history_model6)"
   ]
  },
  {
   "cell_type": "markdown",
   "metadata": {
    "id": "EXqovLwP8CfG"
   },
   "source": [
    "For the above low memory foot print model, we get the best validation accuracy of 24%\n",
    "## Model 7 - Reducing the number of parameters again"
   ]
  },
  {
   "cell_type": "code",
   "execution_count": null,
   "metadata": {
    "execution": {
     "iopub.execute_input": "2022-12-17T11:49:56.980325Z",
     "iopub.status.busy": "2022-12-17T11:49:56.979366Z",
     "iopub.status.idle": "2022-12-17T11:49:56.993692Z",
     "shell.execute_reply": "2022-12-17T11:49:56.992655Z",
     "shell.execute_reply.started": "2022-12-17T11:49:56.980286Z"
    },
    "id": "zka6Bu118Jq_"
   },
   "outputs": [],
   "source": [
    "class ModelConv3D7(ModelBuilder):\n",
    "    \n",
    "    def define_model(self,dense_neurons=64,dropout=0.25):\n",
    "\n",
    "        model = Sequential()\n",
    "        model.add(Conv3D(16, (3, 3, 3), padding='same',\n",
    "                 input_shape=(self.frames_to_sample,self.image_height,self.image_width,self.channels)))\n",
    "        model.add(Activation('relu'))\n",
    "        model.add(BatchNormalization())\n",
    "        model.add(MaxPooling3D(pool_size=(2, 2, 2)))\n",
    "\n",
    "        model.add(Conv3D(32, (3, 3, 3), padding='same'))\n",
    "        model.add(Activation('relu'))\n",
    "        model.add(BatchNormalization())\n",
    "        model.add(MaxPooling3D(pool_size=(2, 2, 2)))\n",
    "\n",
    "        model.add(Conv3D(64, (2, 2, 2), padding='same'))\n",
    "        model.add(Activation('relu'))\n",
    "        model.add(BatchNormalization())\n",
    "        model.add(MaxPooling3D(pool_size=(2, 2, 2)))\n",
    "\n",
    "        model.add(Conv3D(128, (2, 2, 2), padding='same'))\n",
    "        model.add(Activation('relu'))\n",
    "        model.add(BatchNormalization())\n",
    "        model.add(MaxPooling3D(pool_size=(2, 2, 2)))\n",
    "        \n",
    "        model.add(Flatten())\n",
    "        model.add(Dense(dense_neurons,activation='relu'))\n",
    "        model.add(BatchNormalization())\n",
    "        model.add(Dropout(dropout))\n",
    "\n",
    "        model.add(Dense(dense_neurons,activation='relu'))\n",
    "        model.add(BatchNormalization())\n",
    "        model.add(Dropout(dropout))\n",
    "\n",
    "        model.add(Dense(self.num_classes,activation='softmax'))\n",
    "\n",
    "        optimiser = keras.optimizers.Adam(lr=0.0002)\n",
    "        model.compile(optimizer=optimiser, loss='categorical_crossentropy', metrics=['categorical_accuracy'])\n",
    "        return model"
   ]
  },
  {
   "cell_type": "code",
   "execution_count": null,
   "metadata": {
    "colab": {
     "base_uri": "https://localhost:8080/"
    },
    "execution": {
     "iopub.execute_input": "2022-12-17T11:49:56.995574Z",
     "iopub.status.busy": "2022-12-17T11:49:56.995092Z",
     "iopub.status.idle": "2022-12-17T11:49:57.372139Z",
     "shell.execute_reply": "2022-12-17T11:49:57.371036Z",
     "shell.execute_reply.started": "2022-12-17T11:49:56.995537Z"
    },
    "id": "n_sLTT__8QRb",
    "outputId": "e5959bc3-e139-46da-bc80-22c692d91c00"
   },
   "outputs": [],
   "source": [
    "conv_3d7=ModelConv3D7()\n",
    "conv_3d7.initialize_path(project_folder)\n",
    "conv_3d7.initialize_image_properties(image_height=120,image_width=120)\n",
    "conv_3d7.initialize_hyperparams(frames_to_sample=16,batch_size=20,num_epochs=25)\n",
    "conv_3d7_model=conv_3d7.define_model(dense_neurons=64,dropout=0.25)\n",
    "conv_3d7_model.summary()"
   ]
  },
  {
   "cell_type": "code",
   "execution_count": null,
   "metadata": {
    "colab": {
     "base_uri": "https://localhost:8080/"
    },
    "execution": {
     "iopub.execute_input": "2022-12-17T11:49:57.374420Z",
     "iopub.status.busy": "2022-12-17T11:49:57.373787Z"
    },
    "id": "GWVZp2Im8Zz0",
    "outputId": "e39560ac-96f3-4197-e947-1669b510e70e"
   },
   "outputs": [],
   "source": [
    "print(\"Total Params:\", conv_3d7_model.count_params())\n",
    "history_model7=conv_3d7.train_model(conv_3d7_model,augment_data=True)"
   ]
  },
  {
   "cell_type": "code",
   "execution_count": null,
   "metadata": {
    "colab": {
     "base_uri": "https://localhost:8080/",
     "height": 265
    },
    "id": "1N3PCPf4PhPk",
    "outputId": "2aea9b37-de9c-4ebc-b5d3-460160a29502"
   },
   "outputs": [],
   "source": [
    "plot(history_model7)"
   ]
  },
  {
   "cell_type": "markdown",
   "metadata": {
    "id": "B0Q0EHmDPlot"
   },
   "source": [
    "For the above low memory foot print model the best validation accuracy of 23%\n",
    "## Model 8 - CNN- LSTM Model"
   ]
  },
  {
   "cell_type": "code",
   "execution_count": null,
   "metadata": {
    "id": "7lTgnKdoPo8E"
   },
   "outputs": [],
   "source": [
    "class RNNCNN1(ModelBuilder):\n",
    "    \n",
    "    def define_model(self,lstm_cells=64,dense_neurons=64,dropout=0.25):\n",
    "\n",
    "        model = Sequential()\n",
    "\n",
    "        model.add(TimeDistributed(Conv2D(16, (3, 3) , padding='same', activation='relu'),\n",
    "                                  input_shape=(self.frames_to_sample,self.image_height,self.image_width,self.channels)))\n",
    "        model.add(TimeDistributed(BatchNormalization()))\n",
    "        model.add(TimeDistributed(MaxPooling2D((2, 2))))\n",
    "        \n",
    "        model.add(TimeDistributed(Conv2D(32, (3, 3) , padding='same', activation='relu')))\n",
    "        model.add(TimeDistributed(BatchNormalization()))\n",
    "        model.add(TimeDistributed(MaxPooling2D((2, 2))))\n",
    "        \n",
    "        model.add(TimeDistributed(Conv2D(64, (3, 3) , padding='same', activation='relu')))\n",
    "        model.add(TimeDistributed(BatchNormalization()))\n",
    "        model.add(TimeDistributed(MaxPooling2D((2, 2))))\n",
    "        \n",
    "        model.add(TimeDistributed(Conv2D(128, (3, 3) , padding='same', activation='relu')))\n",
    "        model.add(TimeDistributed(BatchNormalization()))\n",
    "        model.add(TimeDistributed(MaxPooling2D((2, 2))))\n",
    "        \n",
    "        model.add(TimeDistributed(Conv2D(256, (3, 3) , padding='same', activation='relu')))\n",
    "        model.add(TimeDistributed(BatchNormalization()))\n",
    "        model.add(TimeDistributed(MaxPooling2D((2, 2))))\n",
    "        \n",
    "        #model.add(TimeDistributed(Conv2D(512, (2, 2) , padding='valid', activation='relu')))\n",
    "       # model.add(TimeDistributed(BatchNormalization()))\n",
    "       # model.add(TimeDistributed(MaxPooling2D((2, 2))))\n",
    "\n",
    "        model.add(TimeDistributed(Flatten()))\n",
    "\n",
    "\n",
    "        model.add(LSTM(lstm_cells))\n",
    "        model.add(Dropout(dropout))\n",
    "        \n",
    "        model.add(Dense(dense_neurons,activation='relu'))\n",
    "        model.add(Dropout(dropout))\n",
    "        \n",
    "        model.add(Dense(self.num_classes, activation='softmax'))\n",
    "        optimiser = keras.optimizers.Adam()\n",
    "        model.compile(optimizer=optimiser, loss='categorical_crossentropy', metrics=['categorical_accuracy'])\n",
    "        return model"
   ]
  },
  {
   "cell_type": "code",
   "execution_count": null,
   "metadata": {
    "colab": {
     "base_uri": "https://localhost:8080/"
    },
    "id": "zjrCmlmsPx_R",
    "outputId": "0783b094-83b3-409e-a122-bb412cb9f4d0"
   },
   "outputs": [],
   "source": [
    "rnn_cnn1=RNNCNN1()\n",
    "rnn_cnn1.initialize_path(project_folder)\n",
    "rnn_cnn1.initialize_image_properties(image_height=120,image_width=120)\n",
    "rnn_cnn1.initialize_hyperparams(frames_to_sample=18,batch_size=20,num_epochs=20)\n",
    "rnn_cnn1_model=rnn_cnn1.define_model(lstm_cells=128,dense_neurons=128,dropout=0.25)\n",
    "rnn_cnn1_model.summary()"
   ]
  },
  {
   "cell_type": "code",
   "execution_count": null,
   "metadata": {
    "colab": {
     "base_uri": "https://localhost:8080/"
    },
    "id": "zGztQbDhP2mk",
    "outputId": "4338cc22-6a7e-47ed-c410-d106d54746d0"
   },
   "outputs": [],
   "source": [
    "print(\"Total Params:\", rnn_cnn1_model.count_params())\n",
    "history_model8=rnn_cnn1.train_model(rnn_cnn1_model,augment_data=True)"
   ]
  },
  {
   "cell_type": "code",
   "execution_count": null,
   "metadata": {
    "colab": {
     "base_uri": "https://localhost:8080/",
     "height": 265
    },
    "id": "qzBOO5JdihLL",
    "outputId": "f269bc10-d784-4301-950e-bc75d4b1bd9a"
   },
   "outputs": [],
   "source": [
    "plot(history_model8)"
   ]
  },
  {
   "cell_type": "markdown",
   "metadata": {
    "id": "7HTtKGGsijXd"
   },
   "source": [
    "For CNN - LSTM model we get a best validation accuracy of 34%\n",
    "As we see more cases of overfitting, lets augment the data with slight rotation as well and run the same set of models again"
   ]
  },
  {
   "cell_type": "markdown",
   "metadata": {
    "id": "1k8NSK2diqIU"
   },
   "source": [
    "## Let's apply some data augmentation & check the model performance."
   ]
  },
  {
   "cell_type": "code",
   "execution_count": null,
   "metadata": {
    "id": "WYIZO0iZinWW"
   },
   "outputs": [],
   "source": [
    "class ModelBuilderMoreAugmentation(metaclass= abc.ABCMeta):\n",
    "    \n",
    "    def initialize_path(self,project_folder):\n",
    "        self.train_doc = np.random.permutation(open(project_folder + '/' + 'train.csv').readlines())\n",
    "        self.val_doc = np.random.permutation(open(project_folder + '/' + 'val.csv').readlines())\n",
    "        self.train_path = project_folder + '/' + 'train'\n",
    "        self.val_path =  project_folder + '/' + 'val'\n",
    "        self.num_train_sequences = len(self.train_doc)\n",
    "        self.num_val_sequences = len(self.val_doc)\n",
    "        \n",
    "    def initialize_image_properties(self,image_height=100,image_width=100):\n",
    "        self.image_height=image_height\n",
    "        self.image_width=image_width\n",
    "        self.channels=3\n",
    "        self.num_classes=5\n",
    "        self.total_frames=30\n",
    "          \n",
    "    def initialize_hyperparams(self,frames_to_sample=30,batch_size=20,num_epochs=20):\n",
    "        self.frames_to_sample=frames_to_sample\n",
    "        self.batch_size=batch_size\n",
    "        self.num_epochs=num_epochs\n",
    "        \n",
    "        \n",
    "    def generator(self,source_path, folder_list, augment=False):\n",
    "        img_idx = np.round(np.linspace(0,self.total_frames-1,self.frames_to_sample)).astype(int)\n",
    "        batch_size=self.batch_size\n",
    "        while True:\n",
    "            t = np.random.permutation(folder_list)\n",
    "            num_batches = len(t)//batch_size\n",
    "        \n",
    "            for batch in range(num_batches): \n",
    "                batch_data, batch_labels= self.one_batch_data(source_path,t,batch,batch_size,img_idx,augment)\n",
    "                yield batch_data, batch_labels \n",
    "\n",
    "            remaining_seq=len(t)%batch_size\n",
    "        \n",
    "            if (remaining_seq != 0):\n",
    "                batch_data, batch_labels= self.one_batch_data(source_path,t,num_batches,batch_size,img_idx,augment,remaining_seq)\n",
    "                yield batch_data, batch_labels \n",
    "    \n",
    "    \n",
    "    def one_batch_data(self,source_path,t,batch,batch_size,img_idx,augment,remaining_seq=0):\n",
    "    \n",
    "        seq_len = remaining_seq if remaining_seq else batch_size\n",
    "    \n",
    "        batch_data = np.zeros((seq_len,len(img_idx),self.image_height,self.image_width,self.channels)) \n",
    "        batch_labels = np.zeros((seq_len,self.num_classes)) \n",
    "    \n",
    "        if (augment): batch_data_aug = np.zeros((seq_len,len(img_idx),self.image_height,self.image_width,self.channels))\n",
    "\n",
    "        \n",
    "        for folder in range(seq_len): \n",
    "            imgs = os.listdir(source_path+'/'+ t[folder + (batch*batch_size)].split(';')[0]) \n",
    "            for idx,item in enumerate(img_idx): \n",
    "                image = imread(source_path+'/'+ t[folder + (batch*batch_size)].strip().split(';')[0]+'/'+imgs[item]).astype(np.float32)\n",
    "                image_resized=resize(image,(self.image_height,self.image_width,3))\n",
    "            \n",
    "\n",
    "                batch_data[folder,idx,:,:,0] = (image_resized[:,:,0])/255\n",
    "                batch_data[folder,idx,:,:,1] = (image_resized[:,:,1])/255\n",
    "                batch_data[folder,idx,:,:,2] = (image_resized[:,:,2])/255\n",
    "            \n",
    "                if (augment):\n",
    "                    shifted = cv2.warpAffine(image, \n",
    "                                             np.float32([[1, 0, np.random.randint(-30,30)],[0, 1, np.random.randint(-30,30)]]), \n",
    "                                            (image.shape[1], image.shape[0]))\n",
    "                    \n",
    "                    gray = cv2.cvtColor(shifted,cv2.COLOR_BGR2GRAY)\n",
    "\n",
    "                    x0, y0 = np.argwhere(gray > 0).min(axis=0)\n",
    "                    x1, y1 = np.argwhere(gray > 0).max(axis=0) \n",
    "                    \n",
    "                    cropped=shifted[x0:x1,y0:y1,:]\n",
    "                    \n",
    "                    image_resized=resize(cropped,(self.image_height,self.image_width,3))\n",
    "                    \n",
    "                    M = cv2.getRotationMatrix2D((self.image_width//2,self.image_height//2),\n",
    "                                                np.random.randint(-10,10), 1.0)\n",
    "                    rotated = cv2.warpAffine(image_resized, M, (self.image_width, self.image_height))\n",
    "                    \n",
    "                    #shifted = cv2.warpAffine(image_resized, \n",
    "                    #                        np.float32([[1, 0, np.random.randint(-3,3)],[0, 1, np.random.randint(-3,3)]]), \n",
    "                    #                        (image_resized.shape[1], image_resized.shape[0]))\n",
    "            \n",
    "                    batch_data_aug[folder,idx,:,:,0] = (rotated[:,:,0])/255\n",
    "                    batch_data_aug[folder,idx,:,:,1] = (rotated[:,:,1])/255\n",
    "                    batch_data_aug[folder,idx,:,:,2] = (rotated[:,:,2])/255\n",
    "                \n",
    "            \n",
    "            batch_labels[folder, int(t[folder + (batch*batch_size)].strip().split(';')[2])] = 1\n",
    "            \n",
    "    \n",
    "        if (augment):\n",
    "            batch_data=np.concatenate([batch_data,batch_data_aug])\n",
    "            batch_labels=np.concatenate([batch_labels,batch_labels])\n",
    "\n",
    "        \n",
    "        return(batch_data,batch_labels)\n",
    "    \n",
    "    \n",
    "    def train_model(self, model, augment_data=False):\n",
    "        train_generator = self.generator(self.train_path, self.train_doc,augment=augment_data)\n",
    "        val_generator = self.generator(self.val_path, self.val_doc)\n",
    "\n",
    "        model_name = 'model_init' + '_' + str(datetime.datetime.now()).replace(' ','').replace(':','_') + '/'\n",
    "    \n",
    "        if not os.path.exists(model_name):\n",
    "            os.mkdir(model_name)\n",
    "        \n",
    "        filepath = model_name + 'model-{epoch:05d}-{loss:.5f}-{categorical_accuracy:.5f}-{val_loss:.5f}-{val_categorical_accuracy:.5f}.h5'\n",
    "\n",
    "        checkpoint = ModelCheckpoint(filepath, monitor='val_loss', verbose=1, save_best_only=False, save_weights_only=False, mode='auto', period=1)\n",
    "        LR = ReduceLROnPlateau(monitor='val_loss', factor=0.2, verbose=1, patience=4)\n",
    "        callbacks_list = [checkpoint, LR]\n",
    "\n",
    "        if (self.num_train_sequences%self.batch_size) == 0:\n",
    "            steps_per_epoch = int(self.num_train_sequences/self.batch_size)\n",
    "        else:\n",
    "            steps_per_epoch = (self.num_train_sequences//self.batch_size) + 1\n",
    "\n",
    "        if (self.num_val_sequences%self.batch_size) == 0:\n",
    "            validation_steps = int(self.num_val_sequences/self.batch_size)\n",
    "        else:\n",
    "            validation_steps = (self.num_val_sequences//self.batch_size) + 1\n",
    "    \n",
    "        history=model.fit_generator(train_generator, steps_per_epoch=steps_per_epoch, epochs=self.num_epochs, verbose=1, \n",
    "                            callbacks=callbacks_list, validation_data=val_generator, \n",
    "                            validation_steps=validation_steps, class_weight=None, workers=1, initial_epoch=0)\n",
    "        return history\n",
    "\n",
    "        \n",
    "    @abc.abstractmethod\n",
    "    def define_model(self):\n",
    "        pass"
   ]
  },
  {
   "cell_type": "code",
   "execution_count": null,
   "metadata": {
    "colab": {
     "base_uri": "https://localhost:8080/",
     "height": 222
    },
    "id": "rjMTgg27i3UU",
    "outputId": "9a6c9d3c-621f-495d-dc1b-cc4a1dfee557"
   },
   "outputs": [],
   "source": [
    "class Test(ModelBuilderMoreAugmentation):\n",
    "    def define_model(self):\n",
    "        pass\n",
    "\n",
    "test_generator=Test()\n",
    "test_generator.initialize_path(project_folder)\n",
    "test_generator.initialize_image_properties(image_height=160,image_width=160)\n",
    "test_generator.initialize_hyperparams(frames_to_sample=30,batch_size=3,num_epochs=1)\n",
    "\n",
    "g=test_generator.generator(test_generator.val_path,test_generator.val_doc,augment=True)\n",
    "batch_data, batch_labels=next(g)\n",
    "fig, axes = plt.subplots(nrows=1, ncols=2)\n",
    "axes[0].imshow(batch_data[0,29,:,:,:])   \n",
    "axes[1].imshow(batch_data[3,29,:,:,:])   "
   ]
  },
  {
   "cell_type": "markdown",
   "metadata": {
    "id": "65hulvoIjQbD"
   },
   "source": [
    "## Model 9 with Augmentation\n",
    "(3,3,3) Filter & 160x160 Image resolution - similar to Model 2"
   ]
  },
  {
   "cell_type": "code",
   "execution_count": null,
   "metadata": {
    "id": "sZdcEDfhjSdt"
   },
   "outputs": [],
   "source": [
    "class ModelConv3D9(ModelBuilderMoreAugmentation):\n",
    "    \n",
    "    def define_model(self,filtersize=(3,3,3),dense_neurons=64,dropout=0.25):\n",
    "\n",
    "        model = Sequential()\n",
    "        model.add(Conv3D(16, filtersize, padding='same',\n",
    "                 input_shape=(self.frames_to_sample,self.image_height,self.image_width,self.channels)))\n",
    "        model.add(Activation('relu'))\n",
    "        model.add(BatchNormalization())\n",
    "        model.add(MaxPooling3D(pool_size=(2, 2, 2)))\n",
    "\n",
    "        model.add(Conv3D(32, filtersize, padding='same'))\n",
    "        model.add(Activation('relu'))\n",
    "        model.add(BatchNormalization())\n",
    "        model.add(MaxPooling3D(pool_size=(2, 2, 2)))\n",
    "\n",
    "        model.add(Conv3D(64, filtersize, padding='same'))\n",
    "        model.add(Activation('relu'))\n",
    "        model.add(BatchNormalization())\n",
    "        model.add(MaxPooling3D(pool_size=(2, 2, 2)))\n",
    "\n",
    "        model.add(Conv3D(128, filtersize, padding='same'))\n",
    "        model.add(Activation('relu'))\n",
    "        model.add(BatchNormalization())\n",
    "        model.add(MaxPooling3D(pool_size=(2, 2, 2)))\n",
    "\n",
    "        model.add(Flatten())\n",
    "        model.add(Dense(dense_neurons,activation='relu'))\n",
    "        model.add(BatchNormalization())\n",
    "        model.add(Dropout(dropout))\n",
    "\n",
    "        model.add(Dense(dense_neurons,activation='relu'))\n",
    "        model.add(BatchNormalization())\n",
    "        model.add(Dropout(dropout))\n",
    "\n",
    "\n",
    "        model.add(Dense(self.num_classes,activation='softmax'))\n",
    "\n",
    "        optimiser = keras.optimizers.Adam(lr=0.0002)\n",
    "        model.compile(optimizer=optimiser, loss='categorical_crossentropy', metrics=['categorical_accuracy'])\n",
    "        return model"
   ]
  },
  {
   "cell_type": "code",
   "execution_count": null,
   "metadata": {
    "colab": {
     "base_uri": "https://localhost:8080/"
    },
    "id": "_d3lJ4cAjZdL",
    "outputId": "2a3b0927-87ce-49bc-d99a-d67be1a7a346"
   },
   "outputs": [],
   "source": [
    "conv_3d9=ModelConv3D9()\n",
    "conv_3d9.initialize_path(project_folder)\n",
    "conv_3d9.initialize_image_properties(image_height=160,image_width=160)\n",
    "conv_3d9.initialize_hyperparams(frames_to_sample=20,batch_size=20,num_epochs=20)\n",
    "conv_3d9_model=conv_3d9.define_model(dense_neurons=256,dropout=0.5)\n",
    "conv_3d9_model.summary()"
   ]
  },
  {
   "cell_type": "code",
   "execution_count": null,
   "metadata": {
    "colab": {
     "base_uri": "https://localhost:8080/"
    },
    "id": "1FyzyqNwjdco",
    "outputId": "f1db055a-a5c8-4afc-b8ed-2853bc7cf201"
   },
   "outputs": [],
   "source": [
    "print(\"Total Params:\", conv_3d9_model.count_params())\n",
    "history_model9=conv_3d9.train_model(conv_3d9_model,augment_data=True)"
   ]
  },
  {
   "cell_type": "code",
   "execution_count": null,
   "metadata": {
    "colab": {
     "base_uri": "https://localhost:8080/",
     "height": 265
    },
    "id": "tIDqVB_3hubG",
    "outputId": "9978d6b3-1a66-4160-8b8b-2128b4c4d6e3"
   },
   "outputs": [],
   "source": [
    "plot(history_model9)"
   ]
  },
  {
   "cell_type": "markdown",
   "metadata": {
    "id": "ccfPJ6MOhxDH"
   },
   "source": [
    "## Model 10 with Augmentation\n",
    "### (2,2,2) Filter & 120x120 Image resolution - similar to Model 3"
   ]
  },
  {
   "cell_type": "code",
   "execution_count": null,
   "metadata": {
    "id": "6hhFHvEzhza8"
   },
   "outputs": [],
   "source": [
    "class ModelConv3D10(ModelBuilderMoreAugmentation):\n",
    "    \n",
    "    def define_model(self,filtersize=(3,3,3),dense_neurons=64,dropout=0.25):\n",
    "\n",
    "        model = Sequential()\n",
    "        model.add(Conv3D(16, filtersize, padding='same',\n",
    "                 input_shape=(self.frames_to_sample,self.image_height,self.image_width,self.channels)))\n",
    "        model.add(Activation('relu'))\n",
    "        model.add(BatchNormalization())\n",
    "        model.add(MaxPooling3D(pool_size=(2, 2, 2)))\n",
    "\n",
    "        model.add(Conv3D(32, filtersize, padding='same'))\n",
    "        model.add(Activation('relu'))\n",
    "        model.add(BatchNormalization())\n",
    "        model.add(MaxPooling3D(pool_size=(2, 2, 2)))\n",
    "\n",
    "        model.add(Conv3D(64, filtersize, padding='same'))\n",
    "        model.add(Activation('relu'))\n",
    "        model.add(BatchNormalization())\n",
    "        model.add(MaxPooling3D(pool_size=(2, 2, 2)))\n",
    "\n",
    "        model.add(Conv3D(128, filtersize, padding='same'))\n",
    "        model.add(Activation('relu'))\n",
    "        model.add(BatchNormalization())\n",
    "        model.add(MaxPooling3D(pool_size=(2, 2, 2)))\n",
    "\n",
    "        model.add(Flatten())\n",
    "        model.add(Dense(dense_neurons,activation='relu'))\n",
    "        model.add(BatchNormalization())\n",
    "        model.add(Dropout(dropout))\n",
    "\n",
    "        model.add(Dense(dense_neurons,activation='relu'))\n",
    "        model.add(BatchNormalization())\n",
    "        model.add(Dropout(dropout))\n",
    "\n",
    "\n",
    "        model.add(Dense(self.num_classes,activation='softmax'))\n",
    "\n",
    "        optimiser = keras.optimizers.Adam(lr=0.0002)\n",
    "        model.compile(optimizer=optimiser, loss='categorical_crossentropy', metrics=['categorical_accuracy'])\n",
    "        return model"
   ]
  },
  {
   "cell_type": "code",
   "execution_count": null,
   "metadata": {
    "colab": {
     "base_uri": "https://localhost:8080/"
    },
    "id": "hZG70wv6h8eW",
    "outputId": "415f2a1f-d392-431a-e4bd-1f35b6d8e6cd"
   },
   "outputs": [],
   "source": [
    "conv_3d10=ModelConv3D10()\n",
    "conv_3d10.initialize_path(project_folder)\n",
    "conv_3d10.initialize_image_properties(image_height=120,image_width=120)\n",
    "conv_3d10.initialize_hyperparams(frames_to_sample=16,batch_size=30,num_epochs=25)\n",
    "conv_3d10_model=conv_3d10.define_model(filtersize=(2,2,2),dense_neurons=256,dropout=0.5)\n",
    "conv_3d10_model.summary()"
   ]
  },
  {
   "cell_type": "code",
   "execution_count": null,
   "metadata": {
    "colab": {
     "base_uri": "https://localhost:8080/"
    },
    "id": "lZbuwDdQiFpf",
    "outputId": "a25be305-6778-42c3-812f-b07960a83b48"
   },
   "outputs": [],
   "source": [
    "print(\"Total Params:\", conv_3d10_model.count_params())\n",
    "history_model10=conv_3d10.train_model(conv_3d10_model,augment_data=True)"
   ]
  },
  {
   "cell_type": "code",
   "execution_count": null,
   "metadata": {
    "colab": {
     "base_uri": "https://localhost:8080/",
     "height": 265
    },
    "id": "vN3JRTAL9Ebo",
    "outputId": "409e096b-8969-4830-8c0a-babfc74bea38"
   },
   "outputs": [],
   "source": [
    "plot(history_model10)"
   ]
  },
  {
   "cell_type": "markdown",
   "metadata": {
    "id": "WZWGjia99HN7"
   },
   "source": [
    "## Model 11 with Augmentation\n",
    "### Adding more layers - Similar to model 4"
   ]
  },
  {
   "cell_type": "code",
   "execution_count": null,
   "metadata": {
    "id": "OSuVJHAV9I8y"
   },
   "outputs": [],
   "source": [
    "class ModelConv3D11(ModelBuilderMoreAugmentation):\n",
    "    \n",
    "    def define_model(self,filtersize=(3,3,3),dense_neurons=64,dropout=0.25):\n",
    "\n",
    "        model = Sequential()\n",
    "        model.add(Conv3D(16, filtersize, padding='same',\n",
    "                 input_shape=(self.frames_to_sample,self.image_height,self.image_width,self.channels)))\n",
    "        model.add(Activation('relu'))\n",
    "        model.add(BatchNormalization())\n",
    "        \n",
    "        model.add(Conv3D(16, filtersize, padding='same',\n",
    "                 input_shape=(self.frames_to_sample,self.image_height,self.image_width,self.channels)))\n",
    "        model.add(Activation('relu'))\n",
    "        model.add(BatchNormalization())\n",
    "        \n",
    "        model.add(MaxPooling3D(pool_size=(2, 2, 2)))\n",
    "\n",
    "        model.add(Conv3D(32, filtersize, padding='same'))\n",
    "        model.add(Activation('relu'))\n",
    "        model.add(BatchNormalization())\n",
    "        \n",
    "        model.add(Conv3D(32, filtersize, padding='same'))\n",
    "        model.add(Activation('relu'))\n",
    "        model.add(BatchNormalization())\n",
    "        \n",
    "        model.add(MaxPooling3D(pool_size=(2, 2, 2)))\n",
    "\n",
    "        model.add(Conv3D(64, filtersize, padding='same'))\n",
    "        model.add(Activation('relu'))\n",
    "        model.add(BatchNormalization())\n",
    "        \n",
    "        model.add(Conv3D(64, filtersize, padding='same'))\n",
    "        model.add(Activation('relu'))\n",
    "        model.add(BatchNormalization())\n",
    "        \n",
    "        model.add(MaxPooling3D(pool_size=(2, 2, 2)))\n",
    "\n",
    "        model.add(Conv3D(128, filtersize, padding='same'))\n",
    "        model.add(Activation('relu'))\n",
    "        model.add(BatchNormalization())\n",
    "        \n",
    "        model.add(Conv3D(128, filtersize, padding='same'))\n",
    "        model.add(Activation('relu'))\n",
    "        model.add(BatchNormalization())\n",
    "        \n",
    "        model.add(MaxPooling3D(pool_size=(2, 2, 2)))\n",
    "        \n",
    "\n",
    "        model.add(Flatten())\n",
    "        model.add(Dense(dense_neurons,activation='relu'))\n",
    "        model.add(BatchNormalization())\n",
    "        model.add(Dropout(dropout))\n",
    "\n",
    "        model.add(Dense(dense_neurons,activation='relu'))\n",
    "        model.add(BatchNormalization())\n",
    "        model.add(Dropout(dropout))\n",
    "\n",
    "\n",
    "        model.add(Dense(self.num_classes,activation='softmax'))\n",
    "\n",
    "        optimiser = keras.optimizers.Adam(lr=0.0002)\n",
    "        model.compile(optimizer=optimiser, loss='categorical_crossentropy', metrics=['categorical_accuracy'])\n",
    "        return model"
   ]
  },
  {
   "cell_type": "code",
   "execution_count": null,
   "metadata": {
    "colab": {
     "base_uri": "https://localhost:8080/"
    },
    "id": "mXCz2gev9XP7",
    "outputId": "8c778dc0-8d2b-4687-d934-66f993a8b390"
   },
   "outputs": [],
   "source": [
    "conv_3d11=ModelConv3D11()\n",
    "conv_3d11.initialize_path(project_folder)\n",
    "conv_3d11.initialize_image_properties(image_height=120,image_width=120)\n",
    "conv_3d11.initialize_hyperparams(frames_to_sample=16,batch_size=20,num_epochs=25)\n",
    "conv_3d11_model=conv_3d11.define_model(filtersize=(3,3,3),dense_neurons=256,dropout=0.5)\n",
    "conv_3d11_model.summary()"
   ]
  },
  {
   "cell_type": "code",
   "execution_count": null,
   "metadata": {
    "colab": {
     "base_uri": "https://localhost:8080/"
    },
    "id": "rC_yuAbm9duU",
    "outputId": "8e04898e-5559-4d8e-942e-d33364bf035b"
   },
   "outputs": [],
   "source": [
    "print(\"Total Params:\", conv_3d11_model.count_params())\n",
    "history_model11=conv_3d11.train_model(conv_3d11_model,augment_data=True)"
   ]
  },
  {
   "cell_type": "code",
   "execution_count": null,
   "metadata": {
    "colab": {
     "base_uri": "https://localhost:8080/",
     "height": 265
    },
    "id": "Qjnvaa1LbFWr",
    "outputId": "f9c2a4e7-63f3-43fa-e30e-cc633e2b2307"
   },
   "outputs": [],
   "source": [
    "plot(history_model11)"
   ]
  },
  {
   "cell_type": "markdown",
   "metadata": {
    "id": "CSv2vM0AbMLa"
   },
   "source": [
    "## Model 12 with Augmentation\n",
    "### Adding dropouts - Similar to Model 5"
   ]
  },
  {
   "cell_type": "code",
   "execution_count": null,
   "metadata": {
    "id": "1Np-fAgObOZI"
   },
   "outputs": [],
   "source": [
    "  class ModelConv3D12(ModelBuilderMoreAugmentation):\n",
    "    \n",
    "    def define_model(self,filtersize=(3,3,3),dense_neurons=64,dropout=0.25):\n",
    "\n",
    "        model = Sequential()\n",
    "        model.add(Conv3D(16, filtersize, padding='same',\n",
    "                 input_shape=(self.frames_to_sample,self.image_height,self.image_width,self.channels)))\n",
    "        model.add(Activation('relu'))\n",
    "        model.add(BatchNormalization())\n",
    "        \n",
    "        model.add(Conv3D(16, filtersize, padding='same',\n",
    "                 input_shape=(self.frames_to_sample,self.image_height,self.image_width,self.channels)))\n",
    "        model.add(Activation('relu'))\n",
    "        model.add(BatchNormalization())\n",
    "        \n",
    "        model.add(MaxPooling3D(pool_size=(2, 2, 2)))\n",
    "        model.add(Dropout(dropout))\n",
    "\n",
    "        model.add(Conv3D(32, filtersize, padding='same'))\n",
    "        model.add(Activation('relu'))\n",
    "        model.add(BatchNormalization())\n",
    "        \n",
    "        model.add(Conv3D(32, filtersize, padding='same'))\n",
    "        model.add(Activation('relu'))\n",
    "        model.add(BatchNormalization())\n",
    "        \n",
    "        model.add(MaxPooling3D(pool_size=(2, 2, 2)))\n",
    "        model.add(Dropout(dropout))\n",
    "\n",
    "        model.add(Conv3D(64, filtersize, padding='same'))\n",
    "        model.add(Activation('relu'))\n",
    "        model.add(BatchNormalization())\n",
    "        \n",
    "        model.add(Conv3D(64, filtersize, padding='same'))\n",
    "        model.add(Activation('relu'))\n",
    "        model.add(BatchNormalization())\n",
    "        \n",
    "        model.add(MaxPooling3D(pool_size=(2, 2, 2)))\n",
    "        model.add(Dropout(dropout))\n",
    "\n",
    "        model.add(Conv3D(128, filtersize, padding='same'))\n",
    "        model.add(Activation('relu'))\n",
    "        model.add(BatchNormalization())\n",
    "        \n",
    "        model.add(Conv3D(128, filtersize, padding='same'))\n",
    "        model.add(Activation('relu'))\n",
    "        model.add(BatchNormalization())\n",
    "        \n",
    "        model.add(MaxPooling3D(pool_size=(2, 2, 2)))\n",
    "        model.add(Dropout(dropout))\n",
    "        \n",
    "        model.add(Flatten())\n",
    "        model.add(Dense(dense_neurons,activation='relu'))\n",
    "        model.add(BatchNormalization())\n",
    "        model.add(Dropout(dropout))\n",
    "\n",
    "        model.add(Dense(dense_neurons,activation='relu'))\n",
    "        model.add(BatchNormalization())\n",
    "        model.add(Dropout(dropout))\n",
    "\n",
    "\n",
    "        model.add(Dense(self.num_classes,activation='softmax'))\n",
    "\n",
    "        optimiser = keras.optimizers.Adam(lr=0.0002)\n",
    "        model.compile(optimizer=optimiser, loss='categorical_crossentropy', metrics=['categorical_accuracy'])\n",
    "        return model\n"
   ]
  },
  {
   "cell_type": "code",
   "execution_count": null,
   "metadata": {
    "colab": {
     "base_uri": "https://localhost:8080/"
    },
    "id": "cl3DRz3Zbe53",
    "outputId": "70d2a417-6ca0-46bb-f702-54add4e6d22d"
   },
   "outputs": [],
   "source": [
    "conv_3d12=ModelConv3D12()\n",
    "conv_3d12.initialize_path(project_folder)\n",
    "conv_3d12.initialize_image_properties(image_height=120,image_width=120)\n",
    "conv_3d12.initialize_hyperparams(frames_to_sample=16,batch_size=20,num_epochs=25)\n",
    "conv_3d12_model=conv_3d12.define_model(filtersize=(3,3,3),dense_neurons=256,dropout=0.25)\n",
    "conv_3d12_model.summary()"
   ]
  },
  {
   "cell_type": "code",
   "execution_count": null,
   "metadata": {
    "colab": {
     "base_uri": "https://localhost:8080/"
    },
    "id": "B5CV5jOQG3wA",
    "outputId": "61f42ea5-efd7-4a71-b5b9-0428b6fc4fc7"
   },
   "outputs": [],
   "source": [
    "print(\"Total Params:\", conv_3d12_model.count_params())\n",
    "history_model12=conv_3d12.train_model(conv_3d12_model,augment_data=True)"
   ]
  },
  {
   "cell_type": "code",
   "execution_count": null,
   "metadata": {
    "colab": {
     "base_uri": "https://localhost:8080/",
     "height": 265
    },
    "id": "__U7NNoI_N2p",
    "outputId": "0ba05dab-e0e4-4ecf-fc30-bacfd2427e33"
   },
   "outputs": [],
   "source": [
    "plot(history_model12)"
   ]
  },
  {
   "cell_type": "markdown",
   "metadata": {
    "id": "bphhFQIs_Rg6"
   },
   "source": [
    "## Model 13 with Augmentation\n",
    "### Reducing network parameters - Similar to Model 6"
   ]
  },
  {
   "cell_type": "code",
   "execution_count": null,
   "metadata": {
    "id": "uTGbJ0oS_TlR"
   },
   "outputs": [],
   "source": [
    "class ModelConv3D13(ModelBuilderMoreAugmentation):\n",
    "    \n",
    "    def define_model(self,dense_neurons=64,dropout=0.25):\n",
    "\n",
    "        model = Sequential()\n",
    "        model.add(Conv3D(16, (3, 3, 3), padding='same',\n",
    "                 input_shape=(self.frames_to_sample,self.image_height,self.image_width,self.channels)))\n",
    "        model.add(Activation('relu'))\n",
    "        model.add(BatchNormalization())\n",
    "        model.add(MaxPooling3D(pool_size=(2, 2, 2)))\n",
    "\n",
    "        model.add(Conv3D(32, (2, 2, 2), padding='same'))\n",
    "        model.add(Activation('relu'))\n",
    "        model.add(BatchNormalization())\n",
    "        model.add(MaxPooling3D(pool_size=(2, 2, 2)))\n",
    "\n",
    "        model.add(Conv3D(64, (2, 2, 2), padding='same'))\n",
    "        model.add(Activation('relu'))\n",
    "        model.add(BatchNormalization())\n",
    "        model.add(MaxPooling3D(pool_size=(2, 2, 2)))\n",
    "\n",
    "        model.add(Conv3D(128, (2, 2, 2), padding='same'))\n",
    "        model.add(Activation('relu'))\n",
    "        model.add(BatchNormalization())\n",
    "        model.add(MaxPooling3D(pool_size=(2, 2, 2)))\n",
    "        \n",
    "        model.add(Flatten())\n",
    "        model.add(Dense(dense_neurons,activation='relu'))\n",
    "        model.add(BatchNormalization())\n",
    "        model.add(Dropout(dropout))\n",
    "\n",
    "        model.add(Dense(dense_neurons,activation='relu'))\n",
    "        model.add(BatchNormalization())\n",
    "        model.add(Dropout(dropout))\n",
    "\n",
    "        model.add(Dense(self.num_classes,activation='softmax'))\n",
    "\n",
    "        optimiser = keras.optimizers.Adam(lr=0.0002)\n",
    "        model.compile(optimizer=optimiser, loss='categorical_crossentropy', metrics=['categorical_accuracy'])\n",
    "        return model"
   ]
  },
  {
   "cell_type": "code",
   "execution_count": null,
   "metadata": {
    "colab": {
     "base_uri": "https://localhost:8080/"
    },
    "id": "7sKkdPXR_a9p",
    "outputId": "e124c1ab-bd8d-49d4-8043-970f44d5140e"
   },
   "outputs": [],
   "source": [
    "conv_3d13=ModelConv3D13()\n",
    "conv_3d13.initialize_path(project_folder)\n",
    "conv_3d13.initialize_image_properties(image_height=100,image_width=100)\n",
    "conv_3d13.initialize_hyperparams(frames_to_sample=16,batch_size=20,num_epochs=25)\n",
    "conv_3d13_model=conv_3d13.define_model(dense_neurons=128,dropout=0.25)\n",
    "conv_3d13_model.summary()"
   ]
  },
  {
   "cell_type": "code",
   "execution_count": null,
   "metadata": {
    "colab": {
     "base_uri": "https://localhost:8080/"
    },
    "id": "UaJYjS4c_iIz",
    "outputId": "e3346404-19ad-4a00-9df2-740dcde869cd"
   },
   "outputs": [],
   "source": [
    "print(\"Total Params:\", conv_3d13_model.count_params())\n",
    "history_model13=conv_3d13.train_model(conv_3d13_model,augment_data=True)"
   ]
  },
  {
   "cell_type": "code",
   "execution_count": null,
   "metadata": {
    "colab": {
     "base_uri": "https://localhost:8080/",
     "height": 265
    },
    "id": "czwP4BE37oxT",
    "outputId": "e7dcd396-63a5-40c1-9226-062fac493a96"
   },
   "outputs": [],
   "source": [
    "plot(history_model13)"
   ]
  },
  {
   "cell_type": "markdown",
   "metadata": {
    "id": "PlUL1Cl27sOb"
   },
   "source": [
    "## Model 14 with Augmentation\n",
    "Reducing network parameters again - Similar to model 7"
   ]
  },
  {
   "cell_type": "code",
   "execution_count": null,
   "metadata": {
    "id": "1P3wUDag7z4p"
   },
   "outputs": [],
   "source": [
    "class ModelConv3D14(ModelBuilderMoreAugmentation):\n",
    "    \n",
    "    def define_model(self,dense_neurons=64,dropout=0.25):\n",
    "\n",
    "        model = Sequential()\n",
    "        model.add(Conv3D(16, (3, 3, 3), padding='same',\n",
    "                 input_shape=(self.frames_to_sample,self.image_height,self.image_width,self.channels)))\n",
    "        model.add(Activation('relu'))\n",
    "        model.add(BatchNormalization())\n",
    "        model.add(MaxPooling3D(pool_size=(2, 2, 2)))\n",
    "\n",
    "        model.add(Conv3D(32, (3, 3, 3), padding='same'))\n",
    "        model.add(Activation('relu'))\n",
    "        model.add(BatchNormalization())\n",
    "        model.add(MaxPooling3D(pool_size=(2, 2, 2)))\n",
    "\n",
    "        model.add(Conv3D(64, (2, 2, 2), padding='same'))\n",
    "        model.add(Activation('relu'))\n",
    "        model.add(BatchNormalization())\n",
    "        model.add(MaxPooling3D(pool_size=(2, 2, 2)))\n",
    "\n",
    "        model.add(Conv3D(128, (2, 2, 2), padding='same'))\n",
    "        model.add(Activation('relu'))\n",
    "        model.add(BatchNormalization())\n",
    "        model.add(MaxPooling3D(pool_size=(2, 2, 2)))\n",
    "        \n",
    "        model.add(Flatten())\n",
    "        model.add(Dense(dense_neurons,activation='relu'))\n",
    "        model.add(BatchNormalization())\n",
    "        model.add(Dropout(dropout))\n",
    "\n",
    "        model.add(Dense(dense_neurons,activation='relu'))\n",
    "        model.add(BatchNormalization())\n",
    "        model.add(Dropout(dropout))\n",
    "\n",
    "        model.add(Dense(self.num_classes,activation='softmax'))\n",
    "\n",
    "        optimiser = keras.optimizers.Adam(lr=0.0002)\n",
    "        model.compile(optimizer=optimiser, loss='categorical_crossentropy', metrics=['categorical_accuracy'])\n",
    "        return model\n"
   ]
  },
  {
   "cell_type": "code",
   "execution_count": null,
   "metadata": {
    "colab": {
     "base_uri": "https://localhost:8080/"
    },
    "id": "XgtJ2qge79f2",
    "outputId": "2d08511e-beef-4231-825f-7fde29e94977"
   },
   "outputs": [],
   "source": [
    "conv_3d14=ModelConv3D14()\n",
    "conv_3d14.initialize_path(project_folder)\n",
    "conv_3d14.initialize_image_properties(image_height=120,image_width=120)\n",
    "conv_3d14.initialize_hyperparams(frames_to_sample=16,batch_size=20,num_epochs=25)\n",
    "conv_3d14_model=conv_3d14.define_model(dense_neurons=64,dropout=0.25)\n",
    "conv_3d14_model.summary()"
   ]
  },
  {
   "cell_type": "code",
   "execution_count": null,
   "metadata": {
    "colab": {
     "base_uri": "https://localhost:8080/"
    },
    "id": "1SqyC7bt8Bdw",
    "outputId": "6c84c493-9752-4fbb-a265-885bf386e703"
   },
   "outputs": [],
   "source": [
    "print(\"Total Params:\", conv_3d14_model.count_params())\n",
    "history_model14=conv_3d14.train_model(conv_3d14_model,augment_data=True)"
   ]
  },
  {
   "cell_type": "code",
   "execution_count": null,
   "metadata": {
    "colab": {
     "base_uri": "https://localhost:8080/",
     "height": 265
    },
    "id": "i3_q8v63nPJu",
    "outputId": "99b50cd9-c522-4109-eac9-ea0b132d2b58"
   },
   "outputs": [],
   "source": [
    "plot(history_model14)"
   ]
  },
  {
   "cell_type": "markdown",
   "metadata": {
    "id": "W3sFksjlnUe_"
   },
   "source": [
    "## Model 15 with Augmentation\n",
    "CNN LSTM with GRU - Similar to Model 8"
   ]
  },
  {
   "cell_type": "code",
   "execution_count": null,
   "metadata": {
    "id": "f5iwynscnVm5"
   },
   "outputs": [],
   "source": [
    "class RNNCNN2(ModelBuilderMoreAugmentation):\n",
    "    \n",
    "    def define_model(self,lstm_cells=64,dense_neurons=64,dropout=0.25):\n",
    "\n",
    "        model = Sequential()\n",
    "\n",
    "        model.add(TimeDistributed(Conv2D(16, (3, 3) , padding='same', activation='relu'),\n",
    "                                  input_shape=(self.frames_to_sample,self.image_height,self.image_width,self.channels)))\n",
    "        model.add(TimeDistributed(BatchNormalization()))\n",
    "        model.add(TimeDistributed(MaxPooling2D((2, 2))))\n",
    "        \n",
    "        model.add(TimeDistributed(Conv2D(32, (3, 3) , padding='same', activation='relu')))\n",
    "        model.add(TimeDistributed(BatchNormalization()))\n",
    "        model.add(TimeDistributed(MaxPooling2D((2, 2))))\n",
    "        \n",
    "        model.add(TimeDistributed(Conv2D(64, (3, 3) , padding='same', activation='relu')))\n",
    "        model.add(TimeDistributed(BatchNormalization()))\n",
    "        model.add(TimeDistributed(MaxPooling2D((2, 2))))\n",
    "        \n",
    "        model.add(TimeDistributed(Conv2D(128, (3, 3) , padding='same', activation='relu')))\n",
    "        model.add(TimeDistributed(BatchNormalization()))\n",
    "        model.add(TimeDistributed(MaxPooling2D((2, 2))))\n",
    "        \n",
    "\n",
    "        model.add(TimeDistributed(Flatten()))\n",
    "\n",
    "\n",
    "        model.add(GRU(lstm_cells))\n",
    "        model.add(Dropout(dropout))\n",
    "        \n",
    "        model.add(Dense(dense_neurons,activation='relu'))\n",
    "        model.add(Dropout(dropout))\n",
    "        \n",
    "        model.add(Dense(self.num_classes, activation='softmax'))\n",
    "        optimiser = keras.optimizers.Adam(lr=0.0002)\n",
    "        model.compile(optimizer=optimiser, loss='categorical_crossentropy', metrics=['categorical_accuracy'])\n",
    "        return model\n"
   ]
  },
  {
   "cell_type": "code",
   "execution_count": null,
   "metadata": {
    "colab": {
     "base_uri": "https://localhost:8080/"
    },
    "id": "rfbJBlzAnhGO",
    "outputId": "b9403f8a-65bb-4f32-89b9-e1135a1919ec"
   },
   "outputs": [],
   "source": [
    "rnn_cnn2=RNNCNN2()\n",
    "rnn_cnn2.initialize_path(project_folder)\n",
    "rnn_cnn2.initialize_image_properties(image_height=120,image_width=120)\n",
    "rnn_cnn2.initialize_hyperparams(frames_to_sample=18,batch_size=20,num_epochs=20)\n",
    "rnn_cnn2_model=rnn_cnn2.define_model(lstm_cells=128,dense_neurons=128,dropout=0.25)\n",
    "rnn_cnn2_model.summary()"
   ]
  },
  {
   "cell_type": "code",
   "execution_count": null,
   "metadata": {
    "colab": {
     "base_uri": "https://localhost:8080/"
    },
    "id": "Iv-zODqRnnXM",
    "outputId": "13fb0329-668e-4112-c92c-ba285e9597e0"
   },
   "outputs": [],
   "source": [
    "print(\"Total Params:\", rnn_cnn2_model.count_params())\n",
    "history_model15=rnn_cnn2.train_model(rnn_cnn2_model,augment_data=True)"
   ]
  },
  {
   "cell_type": "code",
   "execution_count": null,
   "metadata": {
    "colab": {
     "base_uri": "https://localhost:8080/",
     "height": 265
    },
    "id": "UHVkAXuaF6Ng",
    "outputId": "c6f8025a-3c4e-4959-9e8e-526a5d691701"
   },
   "outputs": [],
   "source": [
    "plot(history_model15)"
   ]
  },
  {
   "cell_type": "markdown",
   "metadata": {
    "id": "quUVs57rGABg"
   },
   "source": [
    "We see that overfitting is considerably high when we do more augmentation. However there is not much improvement on accuracy\n",
    "## Model 16 - Let us bring in Transfer Learning !! :)\n",
    "(Optional)"
   ]
  },
  {
   "cell_type": "code",
   "execution_count": null,
   "metadata": {
    "id": "A_v6Eto2GB-J"
   },
   "outputs": [],
   "source": [
    "# importing the MobileNet model due to it's lightweight architecture and high speed performance as compared \n",
    "# to other heavy-duty models like VGG16, Alexnet, InceptionV3 etc. Also, we are now also running on low disk space \n",
    "# in the nimblebox.ai platform. \n",
    "\n",
    "from keras.applications import mobilenet"
   ]
  },
  {
   "cell_type": "code",
   "execution_count": null,
   "metadata": {
    "colab": {
     "base_uri": "https://localhost:8080/"
    },
    "id": "WT9mELL9GOuK",
    "outputId": "6230ea97-1317-49a5-b5aa-8c3d951d862f"
   },
   "outputs": [],
   "source": [
    "mobilenet_transfer = mobilenet.MobileNet(weights='imagenet', include_top=False)\n",
    "\n",
    "class RNNCNN_TL(ModelBuilderMoreAugmentation):\n",
    "    \n",
    "    def define_model(self,lstm_cells=64,dense_neurons=64,dropout=0.25):\n",
    "        \n",
    "        model = Sequential()\n",
    "        model.add(TimeDistributed(mobilenet_transfer,input_shape=(self.frames_to_sample,self.image_height,self.image_width,self.channels)))\n",
    "        \n",
    "        \n",
    "        for layer in model.layers:\n",
    "            layer.trainable = False\n",
    "        \n",
    "        \n",
    "        model.add(TimeDistributed(BatchNormalization()))\n",
    "        model.add(TimeDistributed(MaxPooling2D((2, 2))))\n",
    "        model.add(TimeDistributed(Flatten()))\n",
    "\n",
    "        model.add(LSTM(lstm_cells))\n",
    "        model.add(Dropout(dropout))\n",
    "        \n",
    "        model.add(Dense(dense_neurons,activation='relu'))\n",
    "        model.add(Dropout(dropout))\n",
    "        \n",
    "        model.add(Dense(self.num_classes, activation='softmax'))\n",
    "        \n",
    "        \n",
    "        optimiser = keras.optimizers.Adam()\n",
    "        model.compile(optimizer=optimiser, loss='categorical_crossentropy', metrics=['categorical_accuracy'])\n",
    "        return model"
   ]
  },
  {
   "cell_type": "code",
   "execution_count": null,
   "metadata": {
    "colab": {
     "base_uri": "https://localhost:8080/"
    },
    "id": "u9KGK7QCGWgC",
    "outputId": "b024e645-3aa2-4269-c0dc-8b16c7733513"
   },
   "outputs": [],
   "source": [
    "rnn_cnn_tl=RNNCNN_TL()\n",
    "rnn_cnn_tl.initialize_path(project_folder)\n",
    "rnn_cnn_tl.initialize_image_properties(image_height=120,image_width=120)\n",
    "rnn_cnn_tl.initialize_hyperparams(frames_to_sample=16,batch_size=5,num_epochs=20)\n",
    "rnn_cnn_tl_model=rnn_cnn_tl.define_model(lstm_cells=128,dense_neurons=128,dropout=0.25)\n",
    "rnn_cnn_tl_model.summary()"
   ]
  },
  {
   "cell_type": "code",
   "execution_count": null,
   "metadata": {
    "colab": {
     "base_uri": "https://localhost:8080/"
    },
    "id": "P__Nkzv1GaID",
    "outputId": "61703aae-451b-411a-ab23-dbb29711e72f"
   },
   "outputs": [],
   "source": [
    "print(\"Total Params:\", rnn_cnn_tl_model.count_params())\n",
    "history_model16=rnn_cnn_tl.train_model(rnn_cnn_tl_model,augment_data=True)"
   ]
  },
  {
   "cell_type": "code",
   "execution_count": null,
   "metadata": {
    "colab": {
     "base_uri": "https://localhost:8080/",
     "height": 265
    },
    "id": "oEii04yOX3nC",
    "outputId": "f4b6a9b3-77c5-4889-b38a-abc2023cc32b"
   },
   "outputs": [],
   "source": [
    "plot(history_model16)"
   ]
  },
  {
   "cell_type": "markdown",
   "metadata": {
    "id": "EM2HS_AyX9Bw"
   },
   "source": [
    "We are not training the mobilenet weights and we see validation accuracy is very poor. Let's train them as well and observe if there is performance improvement\n",
    "## Model 17 - Transfer Learning with GRU and training all weights\n",
    "(Optional)"
   ]
  },
  {
   "cell_type": "code",
   "execution_count": null,
   "metadata": {
    "colab": {
     "base_uri": "https://localhost:8080/"
    },
    "id": "EhGnuq8NX-U9",
    "outputId": "d05cdff2-c1d4-43e8-c514-ec92e71a7ba3"
   },
   "outputs": [],
   "source": [
    "from keras.applications import mobilenet\n",
    "\n",
    "mobilenet_transfer = mobilenet.MobileNet(weights='imagenet', include_top=False)\n",
    "\n",
    "class RNNCNN_TL2(ModelBuilderMoreAugmentation):\n",
    "    \n",
    "    def define_model(self,gru_cells=64,dense_neurons=64,dropout=0.25):\n",
    "        \n",
    "        model = Sequential()\n",
    "        model.add(TimeDistributed(mobilenet_transfer,input_shape=(self.frames_to_sample,self.image_height,self.image_width,self.channels)))\n",
    " \n",
    "        \n",
    "        model.add(TimeDistributed(BatchNormalization()))\n",
    "        model.add(TimeDistributed(MaxPooling2D((2, 2))))\n",
    "        model.add(TimeDistributed(Flatten()))\n",
    "\n",
    "        model.add(GRU(gru_cells))\n",
    "        model.add(Dropout(dropout))\n",
    "        \n",
    "        model.add(Dense(dense_neurons,activation='relu'))\n",
    "        model.add(Dropout(dropout))\n",
    "        \n",
    "        model.add(Dense(self.num_classes, activation='softmax'))\n",
    "        \n",
    "        \n",
    "        optimiser = keras.optimizers.Adam()\n",
    "        model.compile(optimizer=optimiser, loss='categorical_crossentropy', metrics=['categorical_accuracy'])\n",
    "        return model"
   ]
  },
  {
   "cell_type": "code",
   "execution_count": null,
   "metadata": {
    "colab": {
     "base_uri": "https://localhost:8080/"
    },
    "id": "ucaRcu2IYHkr",
    "outputId": "2b9dd6e6-2e72-4a33-9e28-4188fff98224"
   },
   "outputs": [],
   "source": [
    "rnn_cnn_tl2=RNNCNN_TL2()\n",
    "rnn_cnn_tl2.initialize_path(project_folder)\n",
    "rnn_cnn_tl2.initialize_image_properties(image_height=120,image_width=120)\n",
    "rnn_cnn_tl2.initialize_hyperparams(frames_to_sample=16,batch_size=5,num_epochs=20)\n",
    "rnn_cnn_tl2_model=rnn_cnn_tl2.define_model(gru_cells=128,dense_neurons=128,dropout=0.25)\n",
    "rnn_cnn_tl2_model.summary()"
   ]
  },
  {
   "cell_type": "code",
   "execution_count": null,
   "metadata": {
    "colab": {
     "base_uri": "https://localhost:8080/"
    },
    "id": "jD52I-BAYLJ-",
    "outputId": "7e5fef24-7aa1-4457-9328-6b811ad77bef"
   },
   "outputs": [],
   "source": [
    "print(\"Total Params:\", rnn_cnn_tl2_model.count_params())\n",
    "history_model17=rnn_cnn_tl2.train_model(rnn_cnn_tl2_model,augment_data=True)"
   ]
  },
  {
   "cell_type": "code",
   "execution_count": null,
   "metadata": {
    "colab": {
     "base_uri": "https://localhost:8080/",
     "height": 265
    },
    "id": "4Cfz0vMxWl06",
    "outputId": "354ca479-b6a5-433f-af23-974020e7c35a"
   },
   "outputs": [],
   "source": [
    "plot(history_model17)"
   ]
  },
  {
   "cell_type": "markdown",
   "metadata": {
    "id": "2rrd4ujXWvQI"
   },
   "source": [
    "## Awesome results! 99% Training accuracy and 96% validation accuracy \n",
    "## Consolidated Final Models"
   ]
  },
  {
   "cell_type": "markdown",
   "metadata": {
    "id": "-XKq6EXk2L9D"
   },
   "source": [
    "![Gesture-1.png](data:image/png;base64,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)"
   ]
  },
  {
   "cell_type": "markdown",
   "metadata": {
    "id": "rXZHNME73Ie4"
   },
   "source": [
    "![Gesture-2.png](data:image/png;base64,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)"
   ]
  },
  {
   "cell_type": "markdown",
   "metadata": {
    "id": "YpdW2-0U3Vkf"
   },
   "source": [
    "## Loading model and Testing"
   ]
  },
  {
   "cell_type": "code",
   "execution_count": null,
   "metadata": {
    "id": "uRr-edpt3Wm_"
   },
   "outputs": [],
   "source": [
    "import time\n",
    "from keras.models import load_model\n",
    "model = load_model('/content/drive/MyDrive/Colab Notebooks/model-00020-0.19649-0.93514-0.45695-0.85000.h5')"
   ]
  },
  {
   "cell_type": "code",
   "execution_count": null,
   "metadata": {
    "id": "Ytlzb5s45fhm"
   },
   "outputs": [],
   "source": [
    "test_generator=RNNCNN1()\n",
    "test_generator.initialize_path(project_folder)\n",
    "test_generator.initialize_image_properties(image_height=120,image_width=120)\n",
    "test_generator.initialize_hyperparams(frames_to_sample=18,batch_size=20,num_epochs=20)\n",
    "\n",
    "g=test_generator.generator(test_generator.val_path,test_generator.val_doc,augment=False)\n",
    "batch_data, batch_labels=next(g)"
   ]
  },
  {
   "cell_type": "code",
   "execution_count": null,
   "metadata": {
    "colab": {
     "base_uri": "https://localhost:8080/"
    },
    "id": "kUan2MzK7Ldz",
    "outputId": "870f05b0-f5d9-4484-debe-08bef31aadf2"
   },
   "outputs": [],
   "source": [
    "batch_labels"
   ]
  },
  {
   "cell_type": "code",
   "execution_count": null,
   "metadata": {
    "colab": {
     "base_uri": "https://localhost:8080/"
    },
    "id": "pTBbWirN7PrE",
    "outputId": "0c163509-3509-4962-c50a-62b5a81ec6ea"
   },
   "outputs": [],
   "source": [
    "print(np.argmax(model.predict(batch_data[:,:,:,:,:]),axis=1))"
   ]
  }
 ],
 "metadata": {
  "accelerator": "TPU",
  "colab": {
   "collapsed_sections": [],
   "machine_shape": "hm",
   "name": "Gesture-Recognition.ipynb",
   "provenance": []
  },
  "gpuClass": "standard",
  "kernelspec": {
   "display_name": "Python 3 (ipykernel)",
   "language": "python",
   "name": "python3"
  },
  "language_info": {
   "codemirror_mode": {
    "name": "ipython",
    "version": 3
   },
   "file_extension": ".py",
   "mimetype": "text/x-python",
   "name": "python",
   "nbconvert_exporter": "python",
   "pygments_lexer": "ipython3",
   "version": "3.9.15"
  }
 },
 "nbformat": 4,
 "nbformat_minor": 4
}
